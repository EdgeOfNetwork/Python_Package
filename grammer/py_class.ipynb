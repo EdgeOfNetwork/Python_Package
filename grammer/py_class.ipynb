{
 "cells": [
  {
   "cell_type": "code",
   "execution_count": 1,
   "metadata": {},
   "outputs": [
    {
     "data": {
      "text/plain": [
       "'SN060'"
      ]
     },
     "execution_count": 1,
     "metadata": {},
     "output_type": "execute_result"
    }
   ],
   "source": [
    "class CustomClass:\n",
    "    def __init__(self, param): # 초기화 initializer\n",
    "        pass\n",
    "    \n",
    "class Flight:\n",
    "    \n",
    "    def number(self):\n",
    "        return 'SN060'\n",
    "\n",
    "f = Flight() #생성자 : constructor\n",
    "f.number() \n",
    "Flight.number(f) #self를 객체로 사용하는 원리를 이용한 방법 f는 flight의 객체"
   ]
  },
  {
   "cell_type": "code",
   "execution_count": 2,
   "metadata": {},
   "outputs": [
    {
     "name": "stdout",
     "output_type": "stream",
     "text": [
      "new\n",
      "init\n"
     ]
    }
   ],
   "source": [
    "class Flight:\n",
    "\n",
    "    def __init__(self):\n",
    "        print('init')\n",
    "        super().__init__()\n",
    "        \n",
    "    def __new__(cls):\n",
    "        print('new')\n",
    "        return super().__new__(cls)\n",
    "    \n",
    "    def number(self):\n",
    "        return 'SN060'\n",
    "    \n",
    "f = Flight()"
   ]
  },
  {
   "cell_type": "code",
   "execution_count": 3,
   "metadata": {},
   "outputs": [
    {
     "data": {
      "text/plain": [
       "5"
      ]
     },
     "execution_count": 3,
     "metadata": {},
     "output_type": "execute_result"
    }
   ],
   "source": [
    "class Flight:\n",
    "    \n",
    "    def __init__(self, number):\n",
    "        self._number = number\n",
    "        \n",
    "    def number(self):\n",
    "        return self._number\n",
    "    \n",
    "    \n",
    "f = Flight(5)\n",
    "f.number()"
   ]
  },
  {
   "cell_type": "code",
   "execution_count": 4,
   "metadata": {},
   "outputs": [],
   "source": [
    "#__init__에는 객체의 불변성을 확립하자 (= 유혀성 검증 수행 Valid)\n",
    "#raise ValueError\n",
    "\n",
    "class Flight:\n",
    "    \n",
    "    def __init__(self, number):\n",
    "        if not number[:2].isalpha():\n",
    "            raise ValueError(\"첫 두글자가 알파벳이 아닙니다\")\n",
    "        if not number[:2].isupper():\n",
    "            raise ValueError(\"첫 두글자가 대문자가 아닙니다\")\n",
    "        if not number[2:].isdigit():\n",
    "            raise ValueError(\"세번째 글자 이상이, 양의 숫자가 아닙니다.\")\n",
    "            \n",
    "        self._number = number\n",
    "    \n",
    "    def number(self):\n",
    "        return self._number"
   ]
  },
  {
   "cell_type": "code",
   "execution_count": 5,
   "metadata": {},
   "outputs": [
    {
     "ename": "ValueError",
     "evalue": "첫 두글자가 대문자가 아닙니다",
     "output_type": "error",
     "traceback": [
      "\u001b[1;31m---------------------------------------------------------------------------\u001b[0m",
      "\u001b[1;31mValueError\u001b[0m                                Traceback (most recent call last)",
      "\u001b[1;32m<ipython-input-5-119d51ea4946>\u001b[0m in \u001b[0;36m<module>\u001b[1;34m\u001b[0m\n\u001b[1;32m----> 1\u001b[1;33m \u001b[0mf\u001b[0m \u001b[1;33m=\u001b[0m \u001b[0mFlight\u001b[0m\u001b[1;33m(\u001b[0m\u001b[1;34m\"abc\"\u001b[0m\u001b[1;33m)\u001b[0m \u001b[1;31m#에러처리가 잘 되어있음을 확인\u001b[0m\u001b[1;33m\u001b[0m\u001b[1;33m\u001b[0m\u001b[0m\n\u001b[0m",
      "\u001b[1;32m<ipython-input-4-cbf8d45ce2f2>\u001b[0m in \u001b[0;36m__init__\u001b[1;34m(self, number)\u001b[0m\n\u001b[0;32m      8\u001b[0m             \u001b[1;32mraise\u001b[0m \u001b[0mValueError\u001b[0m\u001b[1;33m(\u001b[0m\u001b[1;34m\"첫 두글자가 알파벳이 아닙니다\"\u001b[0m\u001b[1;33m)\u001b[0m\u001b[1;33m\u001b[0m\u001b[1;33m\u001b[0m\u001b[0m\n\u001b[0;32m      9\u001b[0m         \u001b[1;32mif\u001b[0m \u001b[1;32mnot\u001b[0m \u001b[0mnumber\u001b[0m\u001b[1;33m[\u001b[0m\u001b[1;33m:\u001b[0m\u001b[1;36m2\u001b[0m\u001b[1;33m]\u001b[0m\u001b[1;33m.\u001b[0m\u001b[0misupper\u001b[0m\u001b[1;33m(\u001b[0m\u001b[1;33m)\u001b[0m\u001b[1;33m:\u001b[0m\u001b[1;33m\u001b[0m\u001b[1;33m\u001b[0m\u001b[0m\n\u001b[1;32m---> 10\u001b[1;33m             \u001b[1;32mraise\u001b[0m \u001b[0mValueError\u001b[0m\u001b[1;33m(\u001b[0m\u001b[1;34m\"첫 두글자가 대문자가 아닙니다\"\u001b[0m\u001b[1;33m)\u001b[0m\u001b[1;33m\u001b[0m\u001b[1;33m\u001b[0m\u001b[0m\n\u001b[0m\u001b[0;32m     11\u001b[0m         \u001b[1;32mif\u001b[0m \u001b[1;32mnot\u001b[0m \u001b[0mnumber\u001b[0m\u001b[1;33m[\u001b[0m\u001b[1;36m2\u001b[0m\u001b[1;33m:\u001b[0m\u001b[1;33m]\u001b[0m\u001b[1;33m.\u001b[0m\u001b[0misdigit\u001b[0m\u001b[1;33m(\u001b[0m\u001b[1;33m)\u001b[0m\u001b[1;33m:\u001b[0m\u001b[1;33m\u001b[0m\u001b[1;33m\u001b[0m\u001b[0m\n\u001b[0;32m     12\u001b[0m             \u001b[1;32mraise\u001b[0m \u001b[0mValueError\u001b[0m\u001b[1;33m(\u001b[0m\u001b[1;34m\"세번째 글자 이상이, 양의 숫자가 아닙니다.\"\u001b[0m\u001b[1;33m)\u001b[0m\u001b[1;33m\u001b[0m\u001b[1;33m\u001b[0m\u001b[0m\n",
      "\u001b[1;31mValueError\u001b[0m: 첫 두글자가 대문자가 아닙니다"
     ]
    }
   ],
   "source": [
    "f = Flight(\"abc\") #에러처리가 잘 되어있음을 확인 "
   ]
  },
  {
   "cell_type": "code",
   "execution_count": 6,
   "metadata": {},
   "outputs": [
    {
     "data": {
      "text/plain": [
       "'AB001'"
      ]
     },
     "execution_count": 6,
     "metadata": {},
     "output_type": "execute_result"
    }
   ],
   "source": [
    "f = Flight(\"AB001\")\n",
    "f._number"
   ]
  },
  {
   "cell_type": "markdown",
   "metadata": {},
   "source": [
    "## 비공개 속성 "
   ]
  },
  {
   "cell_type": "code",
   "execution_count": 7,
   "metadata": {},
   "outputs": [
    {
     "data": {
      "text/plain": [
       "'abc'"
      ]
     },
     "execution_count": 7,
     "metadata": {},
     "output_type": "execute_result"
    }
   ],
   "source": [
    "#위의 예처럼 _ 언더바 한개는 내부적으로만 사용되는 변수다라고 알리지만, \n",
    "#사실 값을 얻어올수도 있고 할당도 가능합니다. \n",
    "#사람들이 코딩컨벤션으로 파이썬을 쓰는 사람들이면 내부적인 변수구나 하고 알고 있을 뿐..\n",
    "f._number = 'abc'\n",
    "f.number()"
   ]
  },
  {
   "cell_type": "code",
   "execution_count": 10,
   "metadata": {},
   "outputs": [],
   "source": [
    "# 비공개 속성\n",
    "#그래서 위의 사례와 다르게 원천적으로 접근을 막고자 할때는\n",
    "# _name을 __name으로 변경\n",
    "\n",
    "\n",
    "class Flight:\n",
    "\n",
    "    def __init__(self, number):\n",
    "        if not number[:2].isalpha():\n",
    "            raise ValueError(\"첫 두글자가 알파벳이 아닙니다.\")\n",
    "        if not number[:2].isupper():\n",
    "            raise ValueError(\"첫 두글자가 대문자가 아닙니다.\")\n",
    "        if not number[2:].isdigit():\n",
    "            raise ValueError(\"세번째 글자 이상이 양의 숫자가 아닙니다.\")\n",
    "        self.__number = number\n",
    "\n",
    "    def number(self):\n",
    "        return self.__number "
   ]
  },
  {
   "cell_type": "code",
   "execution_count": 12,
   "metadata": {},
   "outputs": [
    {
     "data": {
      "text/plain": [
       "'AB001'"
      ]
     },
     "execution_count": 12,
     "metadata": {},
     "output_type": "execute_result"
    }
   ],
   "source": [
    "f = Flight(\"AB001\")\n",
    "f.number()"
   ]
  },
  {
   "cell_type": "code",
   "execution_count": 13,
   "metadata": {},
   "outputs": [
    {
     "ename": "AttributeError",
     "evalue": "'Flight' object has no attribute '__number'",
     "output_type": "error",
     "traceback": [
      "\u001b[1;31m---------------------------------------------------------------------------\u001b[0m",
      "\u001b[1;31mAttributeError\u001b[0m                            Traceback (most recent call last)",
      "\u001b[1;32m<ipython-input-13-5e2ee577a483>\u001b[0m in \u001b[0;36m<module>\u001b[1;34m\u001b[0m\n\u001b[1;32m----> 1\u001b[1;33m \u001b[0mf\u001b[0m\u001b[1;33m.\u001b[0m\u001b[0m__number\u001b[0m\u001b[1;33m\u001b[0m\u001b[1;33m\u001b[0m\u001b[0m\n\u001b[0m",
      "\u001b[1;31mAttributeError\u001b[0m: 'Flight' object has no attribute '__number'"
     ]
    }
   ],
   "source": [
    "f.__number"
   ]
  },
  {
   "cell_type": "markdown",
   "metadata": {},
   "source": [
    "## 3. 파이썬은 메서드 오버로딩이 없다"
   ]
  },
  {
   "cell_type": "code",
   "execution_count": 16,
   "metadata": {},
   "outputs": [],
   "source": [
    "class Korea:\n",
    "    \n",
    "    def __init__(self, name, population, capital):\n",
    "        self.name = name\n",
    "        self.population = population\n",
    "        self.capital = capital\n",
    "        \n",
    "    \n",
    "    def show(self, abc):\n",
    "        print('abc : ', abc)\n",
    "        \n",
    "    \n",
    "    def show(self):\n",
    "        print(\n",
    "            \"\"\"\n",
    "            국가의 이름은 {} 입니다.\n",
    "            국가의 인구는 {} 입니다.\n",
    "            국가의 수도는 {} 입니다.\n",
    "            \"\"\".format(self.name, self.population, self.capital)\n",
    "        )\n",
    "        \n",
    "    "
   ]
  },
  {
   "cell_type": "code",
   "execution_count": 35,
   "metadata": {},
   "outputs": [
    {
     "name": "stdout",
     "output_type": "stream",
     "text": [
      "\n",
      "            국가의 이름은 대한민국 입니다.\n",
      "            국가의 인구는 5000000 입니다.\n",
      "            국가의 수도는 서울 입니다.\n",
      "            \n"
     ]
    }
   ],
   "source": [
    "#마지막 메서드를 유지한다.\n",
    "\n",
    "a = Korea('대한민국',5000000,'서울')\n",
    "a.show()"
   ]
  },
  {
   "cell_type": "code",
   "execution_count": null,
   "metadata": {},
   "outputs": [],
   "source": []
  },
  {
   "cell_type": "markdown",
   "metadata": {},
   "source": [
    "## 클래스 속성"
   ]
  },
  {
   "cell_type": "code",
   "execution_count": 37,
   "metadata": {},
   "outputs": [],
   "source": [
    "class CustomClass:\n",
    "    class_attr = [] #속성명 = 값\n",
    "\n",
    "    def custom_method():\n",
    "        pass\n",
    "    ...\n",
    "    \n",
    "#self.속성에 할당했던 변수들은 모두 인스턴스 속성에 해당한다"
   ]
  },
  {
   "cell_type": "code",
   "execution_count": 26,
   "metadata": {},
   "outputs": [],
   "source": [
    "class Flight:\n",
    "    \n",
    "    class_attr = []\n",
    "    \n",
    "    def add_class_attr(self, number):\n",
    "        Flight.class_attr.append(number)"
   ]
  },
  {
   "cell_type": "code",
   "execution_count": 27,
   "metadata": {},
   "outputs": [],
   "source": [
    "f = Flight()\n",
    "g = Flight()"
   ]
  },
  {
   "cell_type": "code",
   "execution_count": 28,
   "metadata": {},
   "outputs": [
    {
     "data": {
      "text/plain": [
       "[5]"
      ]
     },
     "execution_count": 28,
     "metadata": {},
     "output_type": "execute_result"
    }
   ],
   "source": [
    "f.add_class_attr(5)\n",
    "f.class_attr"
   ]
  },
  {
   "cell_type": "code",
   "execution_count": 29,
   "metadata": {},
   "outputs": [
    {
     "data": {
      "text/plain": [
       "[5, 7]"
      ]
     },
     "execution_count": 29,
     "metadata": {},
     "output_type": "execute_result"
    }
   ],
   "source": [
    "g.add_class_attr(7)\n",
    "g.class_attr"
   ]
  },
  {
   "cell_type": "code",
   "execution_count": 30,
   "metadata": {},
   "outputs": [],
   "source": [
    "class Flight:\n",
    "    class_attr = []\n",
    "    \n",
    "    def __init__(self):\n",
    "        self.class_attr = []\n",
    "    \n",
    "    def add_instance_attr(self, number):\n",
    "        self.class_attr.append(number)\n",
    "        \n",
    "    def add_class_attr(self, number):\n",
    "        Flight.class_attr.append(number)"
   ]
  },
  {
   "cell_type": "code",
   "execution_count": 31,
   "metadata": {},
   "outputs": [],
   "source": [
    "f = Flight()\n",
    "g = Flight()"
   ]
  },
  {
   "cell_type": "code",
   "execution_count": 32,
   "metadata": {},
   "outputs": [],
   "source": [
    "f.add_instance_attr(5)"
   ]
  },
  {
   "cell_type": "code",
   "execution_count": 33,
   "metadata": {},
   "outputs": [
    {
     "data": {
      "text/plain": [
       "[]"
      ]
     },
     "execution_count": 33,
     "metadata": {},
     "output_type": "execute_result"
    }
   ],
   "source": [
    "Flight.class_attr"
   ]
  },
  {
   "cell_type": "code",
   "execution_count": 38,
   "metadata": {},
   "outputs": [
    {
     "data": {
      "text/plain": [
       "[5]"
      ]
     },
     "execution_count": 38,
     "metadata": {},
     "output_type": "execute_result"
    }
   ],
   "source": [
    "f.class_attr"
   ]
  },
  {
   "cell_type": "markdown",
   "metadata": {},
   "source": [
    "## 비공개 클래스 속성"
   ]
  },
  {
   "cell_type": "code",
   "execution_count": 46,
   "metadata": {},
   "outputs": [],
   "source": [
    "class Flight:\n",
    "    __private_attr = 5 \n"
   ]
  },
  {
   "cell_type": "code",
   "execution_count": 47,
   "metadata": {},
   "outputs": [
    {
     "ename": "AttributeError",
     "evalue": "type object 'Flight' has no attribute '__private_attr'",
     "output_type": "error",
     "traceback": [
      "\u001b[1;31m---------------------------------------------------------------------------\u001b[0m",
      "\u001b[1;31mAttributeError\u001b[0m                            Traceback (most recent call last)",
      "\u001b[1;32m<ipython-input-47-f948dfd96769>\u001b[0m in \u001b[0;36m<module>\u001b[1;34m\u001b[0m\n\u001b[1;32m----> 1\u001b[1;33m \u001b[0mFlight\u001b[0m\u001b[1;33m.\u001b[0m\u001b[0m__private_attr\u001b[0m\u001b[1;33m\u001b[0m\u001b[1;33m\u001b[0m\u001b[0m\n\u001b[0m",
      "\u001b[1;31mAttributeError\u001b[0m: type object 'Flight' has no attribute '__private_attr'"
     ]
    }
   ],
   "source": [
    "Flight.__private_attr # 비공개임을 확인"
   ]
  },
  {
   "cell_type": "markdown",
   "metadata": {},
   "source": [
    "## 상속"
   ]
  },
  {
   "cell_type": "code",
   "execution_count": 54,
   "metadata": {},
   "outputs": [],
   "source": [
    "class Country:\n",
    "    \"\"\"super class\"\"\"\n",
    "    name = '국가명'\n",
    "    population = '인구'\n",
    "    capital = '수도'\n",
    "    \n",
    "    def show(self):\n",
    "        print('국가 클래스의 메소드 입니다')\n",
    "\n",
    "class Korea(Country):\n",
    "    \"\"\"subclass\"\"\"\n",
    "    \n",
    "    def __init__(self, name):\n",
    "        self.name = name\n",
    "        \n",
    "    def show_name(self):\n",
    "        print('국가 이름은 :', self.name)\n",
    "        "
   ]
  },
  {
   "cell_type": "code",
   "execution_count": 55,
   "metadata": {},
   "outputs": [
    {
     "name": "stdout",
     "output_type": "stream",
     "text": [
      "국가 클래스의 메소드 입니다\n"
     ]
    }
   ],
   "source": [
    "a = Korea('대한민국')\n",
    "a.show()"
   ]
  },
  {
   "cell_type": "code",
   "execution_count": 56,
   "metadata": {},
   "outputs": [
    {
     "name": "stdout",
     "output_type": "stream",
     "text": [
      "국가 이름은 : 대한민국\n"
     ]
    }
   ],
   "source": [
    "a.show_name()"
   ]
  },
  {
   "cell_type": "code",
   "execution_count": 57,
   "metadata": {},
   "outputs": [
    {
     "data": {
      "text/plain": [
       "'수도'"
      ]
     },
     "execution_count": 57,
     "metadata": {},
     "output_type": "execute_result"
    }
   ],
   "source": [
    "a.capital"
   ]
  },
  {
   "cell_type": "code",
   "execution_count": 61,
   "metadata": {},
   "outputs": [
    {
     "data": {
      "text/plain": [
       "'대한민국'"
      ]
     },
     "execution_count": 61,
     "metadata": {},
     "output_type": "execute_result"
    }
   ],
   "source": [
    "a.name"
   ]
  },
  {
   "cell_type": "markdown",
   "metadata": {},
   "source": [
    "## 메서드 오버라이딩 "
   ]
  },
  {
   "cell_type": "code",
   "execution_count": 59,
   "metadata": {},
   "outputs": [],
   "source": [
    "class Korea(Country):\n",
    "    \"\"\"sub class\"\"\"\n",
    "    \n",
    "    def __init__(self, name, population, capital):\n",
    "        self.name = name\n",
    "        self.population = population\n",
    "        self.capital = capital\n",
    "    \n",
    "    def show(self):\n",
    "        print(\n",
    "        \"\"\"\n",
    "        국가의 이름은 {} 입니다.\n",
    "        국가의 인구는 {} 입니다.\n",
    "        국가의 수도는 {} 입니다.\n",
    "        \"\"\".format(self.name, self.population, self.capital)\n",
    "        )"
   ]
  },
  {
   "cell_type": "code",
   "execution_count": 60,
   "metadata": {},
   "outputs": [
    {
     "name": "stdout",
     "output_type": "stream",
     "text": [
      "\n",
      "        국가의 이름은 대한민국 입니다.\n",
      "        국가의 인구는 50000000 입니다.\n",
      "        국가의 수도는 서울 입니다.\n",
      "        \n"
     ]
    }
   ],
   "source": [
    "a = Korea('대한민국', 50000000, '서울')\n",
    "a. show()"
   ]
  },
  {
   "cell_type": "code",
   "execution_count": 62,
   "metadata": {},
   "outputs": [],
   "source": [
    "## 부모 메서드 호출"
   ]
  },
  {
   "cell_type": "code",
   "execution_count": 63,
   "metadata": {},
   "outputs": [],
   "source": [
    "#부모 메서드 수행 + 자식 클래스의 메서드 내용도 함께 출력을 원할경우\n",
    "#super를 쓰면, 자식클래스 내에서 코드에서도 부모클래스를 호출할 수 있다.\n",
    "class Korea(Country):\n",
    "\n",
    "    def __init__(self, name, population, capital):\n",
    "        self.name = name\n",
    "        self.population = population\n",
    "        self.capital = capital\n",
    "\n",
    "    def show(self):\n",
    "        super().show()\n",
    "        print(\n",
    "            \"\"\"\n",
    "            국가의 이름은 {} 입니다.\n",
    "            국가의 인구는 {} 입니다.\n",
    "            국가의 수도는 {} 입니다.\n",
    "            \"\"\".format(self.name, self.population, self.capital)\n",
    "        )"
   ]
  },
  {
   "cell_type": "code",
   "execution_count": 64,
   "metadata": {},
   "outputs": [
    {
     "name": "stdout",
     "output_type": "stream",
     "text": [
      "국가 클래스의 메소드 입니다\n",
      "\n",
      "            국가의 이름은 대한민국 입니다.\n",
      "            국가의 인구는 50000000 입니다.\n",
      "            국가의 수도는 서울 입니다.\n",
      "            \n"
     ]
    }
   ],
   "source": [
    "a = Korea('대한민국', 50000000, '서울')\n",
    "a. show()"
   ]
  },
  {
   "cell_type": "code",
   "execution_count": 65,
   "metadata": {},
   "outputs": [],
   "source": [
    "## 다중 상속"
   ]
  },
  {
   "cell_type": "code",
   "execution_count": 66,
   "metadata": {},
   "outputs": [],
   "source": [
    "class Country:\n",
    "    \"\"\"Super class\"\"\"\n",
    "    name = '국가명'\n",
    "    population = '인구'\n",
    "    capital = '수도'\n",
    "    \n",
    "    def show(self):\n",
    "        print('국가 클래스의 메소드 입니다')\n",
    "\n",
    "class Province:\n",
    "    Province_list = []\n",
    "    \n",
    "class Korea(Country, Province):\n",
    "    \n",
    "    def __init__(self, name, population, capital):\n",
    "        self.name = name\n",
    "        self.population = population\n",
    "        self.capital = capital\n",
    "\n",
    "    def show(self):\n",
    "        super().show()\n",
    "        print(\n",
    "            \"\"\"\n",
    "            국가의 이름은 {} 입니다.\n",
    "            국가의 인구는 {} 입니다.\n",
    "            국가의 수도는 {} 입니다.\n",
    "            \"\"\".format(self.name, self.population, self.capital)\n",
    "        )"
   ]
  },
  {
   "cell_type": "code",
   "execution_count": 67,
   "metadata": {},
   "outputs": [
    {
     "data": {
      "text/plain": [
       "[__main__.Korea, __main__.Country, __main__.Province, object]"
      ]
     },
     "execution_count": 67,
     "metadata": {},
     "output_type": "execute_result"
    }
   ],
   "source": [
    "Korea.mro()"
   ]
  },
  {
   "cell_type": "code",
   "execution_count": 70,
   "metadata": {},
   "outputs": [
    {
     "name": "stdout",
     "output_type": "stream",
     "text": [
      "국가 클래스의 메소드 입니다\n",
      "\n",
      "            국가의 이름은 대한민국 입니다.\n",
      "            국가의 인구는 50000000 입니다.\n",
      "            국가의 수도는 서울 입니다.\n",
      "            \n"
     ]
    }
   ],
   "source": [
    "a = Korea('대한민국', 50000000, '서울')\n",
    "a. show()"
   ]
  },
  {
   "cell_type": "markdown",
   "metadata": {},
   "source": [
    "## 정적 메서드 @classmethod와 @staticmethod 정리"
   ]
  },
  {
   "cell_type": "code",
   "execution_count": 72,
   "metadata": {},
   "outputs": [],
   "source": [
    "class CustomClass:\n",
    "    \n",
    "    #instance method\n",
    "    def add_instance_method(self, a, b):\n",
    "        return a + b\n",
    "    \n",
    "    #class method\n",
    "    @classmethod\n",
    "    def add_class_method(cls, a, b):\n",
    "        return a + b\n",
    "    \n",
    "    #staticmethod\n",
    "    @staticmethod\n",
    "    def add_static_method(a, b):\n",
    "        return a + b"
   ]
  },
  {
   "cell_type": "code",
   "execution_count": 73,
   "metadata": {},
   "outputs": [
    {
     "data": {
      "text/plain": [
       "8"
      ]
     },
     "execution_count": 73,
     "metadata": {},
     "output_type": "execute_result"
    }
   ],
   "source": [
    "CustomClass.add_instance_method(None, 3, 5) # 인스턴스 메서드를 통해 접근\n",
    "#왜 None을 넣은걸까?\n",
    "#이렇게 말고 첫번째 인자에 객체를 할당해야 한다."
   ]
  },
  {
   "cell_type": "code",
   "execution_count": 75,
   "metadata": {},
   "outputs": [
    {
     "ename": "TypeError",
     "evalue": "add_class_method() takes 3 positional arguments but 4 were given",
     "output_type": "error",
     "traceback": [
      "\u001b[1;31m---------------------------------------------------------------------------\u001b[0m",
      "\u001b[1;31mTypeError\u001b[0m                                 Traceback (most recent call last)",
      "\u001b[1;32m<ipython-input-75-3ab4bd81f708>\u001b[0m in \u001b[0;36m<module>\u001b[1;34m\u001b[0m\n\u001b[1;32m----> 1\u001b[1;33m \u001b[0mCustomClass\u001b[0m\u001b[1;33m.\u001b[0m\u001b[0madd_class_method\u001b[0m\u001b[1;33m(\u001b[0m\u001b[0mCustomClass\u001b[0m\u001b[1;33m,\u001b[0m \u001b[1;36m3\u001b[0m\u001b[1;33m,\u001b[0m \u001b[1;36m5\u001b[0m\u001b[1;33m)\u001b[0m\u001b[1;33m\u001b[0m\u001b[1;33m\u001b[0m\u001b[0m\n\u001b[0m",
      "\u001b[1;31mTypeError\u001b[0m: add_class_method() takes 3 positional arguments but 4 were given"
     ]
    }
   ],
   "source": [
    "CustomClass.add_class_method(CustomClass, 3, 5)"
   ]
  },
  {
   "cell_type": "code",
   "execution_count": 76,
   "metadata": {},
   "outputs": [
    {
     "data": {
      "text/plain": [
       "8"
      ]
     },
     "execution_count": 76,
     "metadata": {},
     "output_type": "execute_result"
    }
   ],
   "source": [
    "CustomClass.add_class_method(3, 5)"
   ]
  },
  {
   "cell_type": "code",
   "execution_count": 77,
   "metadata": {},
   "outputs": [],
   "source": [
    "a = CustomClass()"
   ]
  },
  {
   "cell_type": "code",
   "execution_count": 78,
   "metadata": {},
   "outputs": [
    {
     "data": {
      "text/plain": [
       "8"
      ]
     },
     "execution_count": 78,
     "metadata": {},
     "output_type": "execute_result"
    }
   ],
   "source": [
    "a.add_class_method(3, 5)"
   ]
  },
  {
   "cell_type": "code",
   "execution_count": 79,
   "metadata": {},
   "outputs": [
    {
     "data": {
      "text/plain": [
       "8"
      ]
     },
     "execution_count": 79,
     "metadata": {},
     "output_type": "execute_result"
    }
   ],
   "source": [
    "a.add_static_method(3, 5)"
   ]
  },
  {
   "cell_type": "markdown",
   "metadata": {},
   "source": [
    "## @classmethod 와 @staticmethod의 차이"
   ]
  },
  {
   "cell_type": "code",
   "execution_count": 89,
   "metadata": {},
   "outputs": [],
   "source": [
    "class Language:\n",
    "    \n",
    "    default_language = \"English\"\n",
    "    \n",
    "    def __init__(self):\n",
    "        self.show = '나의 언어는 ' + self.default_language\n",
    "        \n",
    "    @classmethod\n",
    "    def class_my_language(cls):\n",
    "        return cls()\n",
    "    \n",
    "    @staticmethod\n",
    "    def static_my_language():\n",
    "        return Language()\n",
    "    \n",
    "    def print_language(self):\n",
    "        print(self.show)\n",
    "        \n",
    "\n",
    "class KoreanLanguage(Language):\n",
    "    default_language = \"한국어\"\n",
    "    "
   ]
  },
  {
   "cell_type": "code",
   "execution_count": 90,
   "metadata": {},
   "outputs": [],
   "source": [
    "a = KoreanLanguage.static_my_language()\n",
    "b = KoreanLanguage.class_my_language()"
   ]
  },
  {
   "cell_type": "code",
   "execution_count": 91,
   "metadata": {},
   "outputs": [
    {
     "name": "stdout",
     "output_type": "stream",
     "text": [
      "나의 언어는 English\n"
     ]
    }
   ],
   "source": [
    "a.print_language() #static은 부모클래스의 클래스 속성 값을 가져오지만"
   ]
  },
  {
   "cell_type": "code",
   "execution_count": 92,
   "metadata": {},
   "outputs": [
    {
     "name": "stdout",
     "output_type": "stream",
     "text": [
      "나의 언어는 한국어\n"
     ]
    }
   ],
   "source": [
    "b.print_language() #classmethod에서는 cls 인자를 활용하여 cls 클래스 속성을 가져온다"
   ]
  },
  {
   "cell_type": "markdown",
   "metadata": {},
   "source": [
    "## 추상 클래스"
   ]
  },
  {
   "cell_type": "code",
   "execution_count": 93,
   "metadata": {},
   "outputs": [],
   "source": [
    "#1. 미구현 추상 메서드를 한개 이상 가지며\n",
    "#2. 자식클래스에서 해당 추상 메서드를 반드시 구현하도록 강제한다\n"
   ]
  },
  {
   "cell_type": "code",
   "execution_count": null,
   "metadata": {},
   "outputs": [],
   "source": []
  },
  {
   "cell_type": "code",
   "execution_count": 94,
   "metadata": {},
   "outputs": [],
   "source": [
    "## 덕 타이핑"
   ]
  },
  {
   "cell_type": "code",
   "execution_count": 97,
   "metadata": {},
   "outputs": [
    {
     "name": "stdout",
     "output_type": "stream",
     "text": [
      "parrot flying\n",
      "Airplane flying\n"
     ]
    },
    {
     "ename": "AttributeError",
     "evalue": "'Whale' object has no attribute 'fly'",
     "output_type": "error",
     "traceback": [
      "\u001b[1;31m---------------------------------------------------------------------------\u001b[0m",
      "\u001b[1;31mAttributeError\u001b[0m                            Traceback (most recent call last)",
      "\u001b[1;32m<ipython-input-97-203982ed3cc5>\u001b[0m in \u001b[0;36m<module>\u001b[1;34m\u001b[0m\n\u001b[0;32m     23\u001b[0m \u001b[0mlift_off\u001b[0m\u001b[1;33m(\u001b[0m\u001b[0mparrot\u001b[0m\u001b[1;33m)\u001b[0m\u001b[1;33m\u001b[0m\u001b[1;33m\u001b[0m\u001b[0m\n\u001b[0;32m     24\u001b[0m \u001b[0mlift_off\u001b[0m\u001b[1;33m(\u001b[0m\u001b[0mairplane\u001b[0m\u001b[1;33m)\u001b[0m\u001b[1;33m\u001b[0m\u001b[1;33m\u001b[0m\u001b[0m\n\u001b[1;32m---> 25\u001b[1;33m \u001b[0mlift_off\u001b[0m\u001b[1;33m(\u001b[0m\u001b[0mwhale\u001b[0m\u001b[1;33m)\u001b[0m\u001b[1;33m\u001b[0m\u001b[1;33m\u001b[0m\u001b[0m\n\u001b[0m",
      "\u001b[1;32m<ipython-input-97-203982ed3cc5>\u001b[0m in \u001b[0;36mlift_off\u001b[1;34m(entity)\u001b[0m\n\u001b[0;32m     15\u001b[0m \u001b[1;33m\u001b[0m\u001b[0m\n\u001b[0;32m     16\u001b[0m \u001b[1;32mdef\u001b[0m \u001b[0mlift_off\u001b[0m\u001b[1;33m(\u001b[0m\u001b[0mentity\u001b[0m\u001b[1;33m)\u001b[0m\u001b[1;33m:\u001b[0m\u001b[1;33m\u001b[0m\u001b[1;33m\u001b[0m\u001b[0m\n\u001b[1;32m---> 17\u001b[1;33m     \u001b[0mentity\u001b[0m\u001b[1;33m.\u001b[0m\u001b[0mfly\u001b[0m\u001b[1;33m(\u001b[0m\u001b[1;33m)\u001b[0m\u001b[1;33m\u001b[0m\u001b[1;33m\u001b[0m\u001b[0m\n\u001b[0m\u001b[0;32m     18\u001b[0m \u001b[1;33m\u001b[0m\u001b[0m\n\u001b[0;32m     19\u001b[0m \u001b[0mparrot\u001b[0m \u001b[1;33m=\u001b[0m \u001b[0mParrot\u001b[0m\u001b[1;33m(\u001b[0m\u001b[1;33m)\u001b[0m\u001b[1;33m\u001b[0m\u001b[1;33m\u001b[0m\u001b[0m\n",
      "\u001b[1;31mAttributeError\u001b[0m: 'Whale' object has no attribute 'fly'"
     ]
    }
   ],
   "source": [
    "#파이썬과 같은 동적타입 언어(pass by object reference)는 \n",
    "#본질적으로 다른 클래스라도 객체의 적합성은 \n",
    "#객체 실제 유형이 아니라 특정 메소드와 속성의 존재에 의해 결정되는 것\n",
    "class Parrot:\n",
    "    def fly(self):\n",
    "        print(\"parrot flying\")\n",
    "\n",
    "class Airplane:\n",
    "    def fly(self):\n",
    "        print(\"Airplane flying\")\n",
    "        \n",
    "class Whale:\n",
    "    def swim(self):\n",
    "        print(\"whale swim\")\n",
    "        \n",
    "def lift_off(entity):\n",
    "    entity.fly()\n",
    "    \n",
    "parrot = Parrot()\n",
    "airplane = Airplane()\n",
    "whale = Whale() #fly가 없다.\n",
    "\n",
    "lift_off(parrot)\n",
    "lift_off(airplane)\n",
    "lift_off(whale)\n",
    "#속성과 메서드의 존재에 의해 객체의 적합성이 결정된다."
   ]
  },
  {
   "cell_type": "code",
   "execution_count": null,
   "metadata": {},
   "outputs": [],
   "source": [
    "\n"
   ]
  }
 ],
 "metadata": {
  "kernelspec": {
   "display_name": "Python 3",
   "language": "python",
   "name": "python3"
  },
  "language_info": {
   "codemirror_mode": {
    "name": "ipython",
    "version": 3
   },
   "file_extension": ".py",
   "mimetype": "text/x-python",
   "name": "python",
   "nbconvert_exporter": "python",
   "pygments_lexer": "ipython3",
   "version": "3.7.3"
  }
 },
 "nbformat": 4,
 "nbformat_minor": 2
}
