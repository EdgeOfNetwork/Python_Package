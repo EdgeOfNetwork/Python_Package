{
 "cells": [
  {
   "cell_type": "markdown",
   "metadata": {},
   "source": [
    "![](images/name_scope3.png)"
   ]
  },
  {
   "cell_type": "code",
   "execution_count": null,
   "metadata": {},
   "outputs": [],
   "source": [
    "a = 123\n",
    "\n",
    "\n",
    "def func1():\n",
    "    print(a)\n",
    "\n",
    "func1()\n",
    "print(a)"
   ]
  },
  {
   "cell_type": "code",
   "execution_count": null,
   "metadata": {},
   "outputs": [],
   "source": [
    "b = 123\n",
    "\n",
    "\n",
    "def func2():\n",
    "    b = 456 #namespace가 다른데 어떻게 참조를 한다는건지\n",
    "    print(locals())\n",
    "\n",
    "func2()\n",
    "print(b)"
   ]
  },
  {
   "cell_type": "code",
   "execution_count": null,
   "metadata": {},
   "outputs": [],
   "source": [
    "#local을 global 로 namespace scope를 변경해주는 과정\n",
    "c = 123\n",
    "\n",
    "\n",
    "def func3():\n",
    "    global c\n",
    "    c = 456\n",
    "    print(locals())\n",
    "\n",
    "func3()\n",
    "print(c)"
   ]
  },
  {
   "cell_type": "code",
   "execution_count": null,
   "metadata": {},
   "outputs": [],
   "source": [
    "def func4():\n",
    "    d = 456\n",
    "    def func5():\n",
    "        print(d)\n",
    "        e = 567\n",
    "\n",
    "    func5()\n",
    "\n",
    "    \n",
    "func4()"
   ]
  },
  {
   "cell_type": "markdown",
   "metadata": {},
   "source": [
    "## Shadowing"
   ]
  },
  {
   "cell_type": "markdown",
   "metadata": {},
   "source": [
    "#특정 scope 내에 선언된 이름이, 외부 scope와 중첩되는 것을 뜻함, (= name masking)\n",
    "#scope 계층에서, 중복된 이름이 발견되면 local 이름 공간 먼저 참조\n",
    "#로컬 우선 참조하며, 전역변수는 엑세스 되지 않는다.\n",
    "\n",
    "#순서는 다음과 같다\n",
    "\n",
    "1.함수의 namespace에서 local 이름을 찾는다, 등록된 이름이 있다면 name을 사용\n",
    "\n",
    "2.현재 namespace에서 해당 name이 없다면, 상위 공간을 찾는다. \n",
    "만약 중첩된 함수면, 상위 함수의 local namespace를 찾는다. \n",
    "이런식으로 발견될때까지 상위를 참조한다.\n",
    "\n",
    "3.모듈의 전역 name space에서 발견되지 않는 name은 built-in 에서 찾는다\n",
    "\n",
    "4.1~3을 거치고도 없다면 NameError 발생시킨다.\n"
   ]
  },
  {
   "cell_type": "markdown",
   "metadata": {},
   "source": [
    "# 문제상황"
   ]
  },
  {
   "cell_type": "code",
   "execution_count": null,
   "metadata": {},
   "outputs": [],
   "source": [
    "is_first_annotation = True\n",
    "\n",
    "\n",
    "def func():\n",
    "    is_first_annotation = True # result[9]\n",
    "    \n",
    "    if is_first_annotation:\n",
    "        is_first_annotation = False\n",
    "    print(locals()) \n",
    "\n",
    "    \n",
    "if __name__ =='__main__':\n",
    "    print(\"1:\",is_first_annotation)\n",
    "    func()\n",
    "    print(\"4:\",is_first_annotation)"
   ]
  },
  {
   "cell_type": "markdown",
   "metadata": {},
   "source": [
    "#### 즉, func 속 namespcae 변수가 global namescape 변수에 영향을 끼지치 못함을 확인 할 수 있다. \n",
    "#### 의도상 False가 나와야 한다."
   ]
  },
  {
   "cell_type": "code",
   "execution_count": null,
   "metadata": {},
   "outputs": [],
   "source": [
    "\"\"\" 해결 1 \"\"\"\n",
    "is_first_annotation = True\n",
    "\n",
    "\n",
    "def func():\n",
    "    global is_first_annotation \n",
    "    is_first_annotation = True\n",
    "    \n",
    "    if is_first_annotation:\n",
    "        is_first_annotation = False\n",
    "    print(locals())\n",
    "    \n",
    "    \n",
    "if __name__ =='__main__':\n",
    "    print(\"1:\",is_first_annotation)\n",
    "    func()\n",
    "    print(\"4:\",is_first_annotation)"
   ]
  },
  {
   "cell_type": "code",
   "execution_count": 2,
   "metadata": {},
   "outputs": [
    {
     "name": "stdout",
     "output_type": "stream",
     "text": [
      "123 456\n",
      "{'__name__': '__main__', '__doc__': ' main 속에는 global 한가? ', '__package__': None, '__loader__': None, '__spec__': None, '__builtin__': <module 'builtins' (built-in)>, '__builtins__': <module 'builtins' (built-in)>, '_ih': ['', '\"\"\" Q 2. \"\"\"\\n\"\"\" main 속에는 global 한가? \"\"\"\\na = 123\\n\\ndef func():\\n    a = 456\\n    global b\\n    b = 123\\n\\nif __name__ ==\\'__main__\\':\\n    \\n    b = 456\\n    func()\\n    print(a, b)\\n    print(globals())\\n\\n#main문에 선언된 것은 global 로 선언된다.', '\"\"\" Q 2. \"\"\"\\n\"\"\" main 속에는 global 한가? \"\"\"\\na = 123\\n\\ndef func():\\n    a = 456\\n    b = 123\\n\\nif __name__ ==\\'__main__\\':\\n    \\n    b = 456\\n    func()\\n    print(a, b)\\n    print(globals())\\n\\n#main문에 선언된 것은 global 로 선언된다.'], '_oh': {}, '_dh': ['C:\\\\Users\\\\gaeasoft'], 'In': ['', '\"\"\" Q 2. \"\"\"\\n\"\"\" main 속에는 global 한가? \"\"\"\\na = 123\\n\\ndef func():\\n    a = 456\\n    global b\\n    b = 123\\n\\nif __name__ ==\\'__main__\\':\\n    \\n    b = 456\\n    func()\\n    print(a, b)\\n    print(globals())\\n\\n#main문에 선언된 것은 global 로 선언된다.', '\"\"\" Q 2. \"\"\"\\n\"\"\" main 속에는 global 한가? \"\"\"\\na = 123\\n\\ndef func():\\n    a = 456\\n    b = 123\\n\\nif __name__ ==\\'__main__\\':\\n    \\n    b = 456\\n    func()\\n    print(a, b)\\n    print(globals())\\n\\n#main문에 선언된 것은 global 로 선언된다.'], 'Out': {}, 'get_ipython': <bound method InteractiveShell.get_ipython of <ipykernel.zmqshell.ZMQInteractiveShell object at 0x000002440C373630>>, 'exit': <IPython.core.autocall.ZMQExitAutocall object at 0x000002440EB89FD0>, 'quit': <IPython.core.autocall.ZMQExitAutocall object at 0x000002440EB89FD0>, '_': '', '__': '', '___': '', '_i': '\"\"\" Q 2. \"\"\"\\n\"\"\" main 속에는 global 한가? \"\"\"\\na = 123\\n\\ndef func():\\n    a = 456\\n    global b\\n    b = 123\\n\\nif __name__ ==\\'__main__\\':\\n    \\n    b = 456\\n    func()\\n    print(a, b)\\n    print(globals())\\n\\n#main문에 선언된 것은 global 로 선언된다.', '_ii': '', '_iii': '', '_i1': '\"\"\" Q 2. \"\"\"\\n\"\"\" main 속에는 global 한가? \"\"\"\\na = 123\\n\\ndef func():\\n    a = 456\\n    global b\\n    b = 123\\n\\nif __name__ ==\\'__main__\\':\\n    \\n    b = 456\\n    func()\\n    print(a, b)\\n    print(globals())\\n\\n#main문에 선언된 것은 global 로 선언된다.', 'a': 123, 'func': <function func at 0x000002440EC78950>, 'b': 456, '_i2': '\"\"\" Q 2. \"\"\"\\n\"\"\" main 속에는 global 한가? \"\"\"\\na = 123\\n\\ndef func():\\n    a = 456\\n    b = 123\\n\\nif __name__ ==\\'__main__\\':\\n    \\n    b = 456\\n    func()\\n    print(a, b)\\n    print(globals())\\n\\n#main문에 선언된 것은 global 로 선언된다.'}\n"
     ]
    }
   ],
   "source": [
    "\"\"\" Q 2. \"\"\"\n",
    "\"\"\" main 속에는 global 한가? \"\"\"\n",
    "a = 123\n",
    "\n",
    "def func():\n",
    "    a = 456\n",
    "    b = 123\n",
    "\n",
    "if __name__ =='__main__':\n",
    "    \n",
    "    b = 456\n",
    "    func()\n",
    "    print(a, b)\n",
    "    print(globals())\n",
    "elif __name__ =='__main__':\n",
    "\n",
    "    asdklfj\n",
    "\n",
    "\n",
    "#main문에 선언된 것은 global 로 선언된다."
   ]
  },
  {
   "cell_type": "code",
   "execution_count": null,
   "metadata": {},
   "outputs": [],
   "source": [
    "#클래스는 어떨까?\n",
    "c = 1 \n",
    "\n",
    "class Test:\n",
    "    test1 = 1\n",
    "    print(locals())\n",
    "\n",
    "a = Test()\n",
    "print(globals())"
   ]
  },
  {
   "cell_type": "code",
   "execution_count": null,
   "metadata": {},
   "outputs": [],
   "source": [
    "\"\"\" 해결 2 \"\"\"\n",
    "\n",
    "def trans_annotation_state(is_first_annotation):\n",
    "    if is_first_annotation:\n",
    "        is_first_annotation = False\n",
    "        return is_first_annotation\n",
    "\n",
    "\n",
    "def func():\n",
    "    is_first_annotation = True\n",
    "    return trans_annotation_state(is_first_annotation)\n",
    "    \n",
    "if __name__ =='__main__':\n",
    "    is_first_annotation = True\n",
    "    print(\"1:\",is_first_annotation)\n",
    "    is_first_annotation = func()\n",
    "    print(\"4:\",is_first_annotation)"
   ]
  },
  {
   "cell_type": "code",
   "execution_count": null,
   "metadata": {},
   "outputs": [],
   "source": []
  }
 ],
 "metadata": {
  "kernelspec": {
   "display_name": "Python 3",
   "language": "python",
   "name": "python3"
  },
  "language_info": {
   "codemirror_mode": {
    "name": "ipython",
    "version": 3
   },
   "file_extension": ".py",
   "mimetype": "text/x-python",
   "name": "python",
   "nbconvert_exporter": "python",
   "pygments_lexer": "ipython3",
   "version": "3.7.3"
  }
 },
 "nbformat": 4,
 "nbformat_minor": 2
}
