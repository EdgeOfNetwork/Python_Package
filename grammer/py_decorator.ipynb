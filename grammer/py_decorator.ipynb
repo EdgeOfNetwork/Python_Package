{
 "cells": [
  {
   "cell_type": "code",
   "execution_count": 1,
   "id": "a37eea47",
   "metadata": {},
   "outputs": [],
   "source": [
    "class Calc:\n",
    "    @staticmethod #데코레이터\n",
    "    def add(a, b):\n",
    "        print(a + b)"
   ]
  },
  {
   "cell_type": "markdown",
   "id": "e06e7df3",
   "metadata": {},
   "source": [
    "데코레이터는 함수를 수정하지 않은 상태에서   \n",
    "추가 기능을 구현할 때 사용합니다.  \n",
    "예를 들어서 함수의 시작과 끝을 출력하고 싶다면   \n",
    "다음과 같이 함수 시작, 끝 부분에 print를 넣어주어야 합니다."
   ]
  },
  {
   "cell_type": "code",
   "execution_count": 2,
   "id": "0210a0e4",
   "metadata": {},
   "outputs": [
    {
     "name": "stdout",
     "output_type": "stream",
     "text": [
      "hello 함수 시작\n",
      "hello\n",
      "hello 함수 끝\n",
      "world 함수 시작\n",
      "world\n",
      "world 함수 끝\n"
     ]
    }
   ],
   "source": [
    "def hello():\n",
    "    print('hello 함수 시작')\n",
    "    print('hello')\n",
    "    print('hello 함수 끝')\n",
    "    \n",
    "def world():\n",
    "    print('world 함수 시작')\n",
    "    print('world')\n",
    "    print('world 함수 끝')\n",
    "\n",
    "hello()\n",
    "world()"
   ]
  },
  {
   "cell_type": "markdown",
   "id": "ea958ed7",
   "metadata": {},
   "source": [
    "만약 다른 함수도 시작과 끝을 출력하고 싶다면 함수를 만들 때마다 print를 넣어야 합니다. 따라서 함수가 많아지면 매우 번거로워집니다.  \n",
    "  \n",
    "이런 경우에는 데코레이터를 활용하면 편리합니다. 다음은 함수의 시작과 끝을 출력하는 데코레이터입니다.  "
   ]
  },
  {
   "cell_type": "code",
   "execution_count": 3,
   "id": "2890f611",
   "metadata": {},
   "outputs": [
    {
     "name": "stdout",
     "output_type": "stream",
     "text": [
      "hello 함수 시작\n",
      "hello\n",
      "hello 함수 끝\n",
      "world 함수 시작\n",
      "world\n",
      "world 함수 끝\n"
     ]
    }
   ],
   "source": [
    "def trace(func):                        #호출할 함수를 매개변수로 받음\n",
    "    def wrapper():                      #호출할 함수를 감싸는 함수 \n",
    "        print(func.__name__,'함수 시작')#__name__으로 함수 이름 출력\n",
    "        func()                          #매개변수로 받은 함수를 호출\n",
    "        print(func.__name__,'함수 끝')\n",
    "    return wrapper                     #wrapper함수 반환\n",
    "\n",
    "def hello():\n",
    "    print('hello')\n",
    "    \n",
    "def world():\n",
    "    print('world')\n",
    "\n",
    "trace_hello = trace(hello) #데코레이터에 호출할 함수를 넣는다\n",
    "trace_hello()              #반환된 함수를 호출\n",
    "trace_world = trace(world) #데코레이터에 호출할 함수를 넣는다\n",
    "trace_world()              #반환된 함수를 호출한다"
   ]
  },
  {
   "cell_type": "markdown",
   "id": "68a3e78f",
   "metadata": {},
   "source": [
    "# @로 decorator 사용하기"
   ]
  },
  {
   "cell_type": "code",
   "execution_count": 6,
   "id": "d99530b3",
   "metadata": {},
   "outputs": [
    {
     "name": "stdout",
     "output_type": "stream",
     "text": [
      "hello 함수 시작\n",
      "hello\n",
      "hello 함수 끝\n",
      "world 함수 시작\n",
      "world\n",
      "world 함수 끝\n"
     ]
    }
   ],
   "source": [
    "def trace(func):                         #호출할 함수를 매개변수로 받음\n",
    "    def wrapper():                         \n",
    "        print(func.__name__,\"함수 시작\") #__name__으로 함수 이름 출력\n",
    "        func()                           #매개변수로 받은 함수를 호출\n",
    "        print(func.__name__,\"함수 끝\")   \n",
    "    return wrapper                        #wrapper 함수 반환\n",
    "\n",
    "@trace # @데코레이터\n",
    "def hello():\n",
    "    print('hello')\n",
    "    \n",
    "@trace\n",
    "def world():\n",
    "    print('world')\n",
    "    \n",
    "hello()\n",
    "world()"
   ]
  },
  {
   "cell_type": "code",
   "execution_count": 7,
   "id": "524e496d",
   "metadata": {},
   "outputs": [
    {
     "name": "stdout",
     "output_type": "stream",
     "text": [
      "hello 함수 시작\n",
      "hello\n",
      "hello 함수 끝\n",
      "world 함수 시작\n",
      "world\n",
      "world 함수 끝\n"
     ]
    }
   ],
   "source": [
    "@trace\n",
    "def hello():\n",
    "    print(\"hello\")\n",
    "    \n",
    "@trace\n",
    "def world():\n",
    "    print('world')\n",
    "    \n",
    "hello()\n",
    "world()"
   ]
  },
  {
   "cell_type": "markdown",
   "id": "9781d149",
   "metadata": {},
   "source": [
    "데코레이터는 함수를 감싸는 형태로 구성되어 있다.\n",
    "\n",
    "데코레이터는 기존 함수를 수정하지 않으면서 추가 기능을 구현할 때 사용한다"
   ]
  },
  {
   "cell_type": "code",
   "execution_count": 8,
   "id": "11e52958",
   "metadata": {},
   "outputs": [
    {
     "name": "stdout",
     "output_type": "stream",
     "text": [
      "decorator1\n",
      "decorator2\n",
      "hello\n"
     ]
    }
   ],
   "source": [
    "def decorator1(func):\n",
    "    def wrapper():\n",
    "        print('decorator1')\n",
    "        func()\n",
    "    return wrapper\n",
    "\n",
    "def decorator2(func):\n",
    "    def wrapper():\n",
    "        print('decorator2')\n",
    "        func()\n",
    "    return wrapper\n",
    "\n",
    "#데코레이터를 여러 개 지정\n",
    "@decorator1\n",
    "@decorator2\n",
    "def hello():\n",
    "    print('hello')\n",
    "\n",
    "hello()"
   ]
  },
  {
   "cell_type": "code",
   "execution_count": 9,
   "id": "2c4e946a",
   "metadata": {},
   "outputs": [
    {
     "name": "stdout",
     "output_type": "stream",
     "text": [
      "decorator1\n",
      "decorator2\n",
      "decorator1\n",
      "decorator2\n",
      "hello\n"
     ]
    }
   ],
   "source": [
    "decorated_hello = decorator1(decorator2(hello))\n",
    "decorated_hello()"
   ]
  },
  {
   "cell_type": "code",
   "execution_count": null,
   "id": "64cb27d6",
   "metadata": {},
   "outputs": [],
   "source": []
  }
 ],
 "metadata": {
  "kernelspec": {
   "display_name": "Python 3 (ipykernel)",
   "language": "python",
   "name": "python3"
  },
  "language_info": {
   "codemirror_mode": {
    "name": "ipython",
    "version": 3
   },
   "file_extension": ".py",
   "mimetype": "text/x-python",
   "name": "python",
   "nbconvert_exporter": "python",
   "pygments_lexer": "ipython3",
   "version": "3.9.7"
  }
 },
 "nbformat": 4,
 "nbformat_minor": 5
}
