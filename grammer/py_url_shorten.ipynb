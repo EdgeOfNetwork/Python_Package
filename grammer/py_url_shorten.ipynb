{
 "cells": [
  {
   "cell_type": "markdown",
   "metadata": {},
   "source": [
    "## https://www.youtube.com/watch?v=_azQhatOOac&t=226s"
   ]
  },
  {
   "cell_type": "code",
   "execution_count": 9,
   "metadata": {},
   "outputs": [],
   "source": [
    "#Basic\n",
    "class URL_shortner:\n",
    "    id = 1\n",
    "    url2id = {}\n",
    "    \n",
    "    def shorten_url(self, original_url):\n",
    "        self.url2id[original_url] = self.id\n",
    "        shorten_url = self.id\n",
    "        self.id += 1\n",
    "        \n",
    "        return \"short_url.com/\" + str(shorten_url)"
   ]
  },
  {
   "cell_type": "code",
   "execution_count": 10,
   "metadata": {},
   "outputs": [
    {
     "name": "stdout",
     "output_type": "stream",
     "text": [
      "short_url.com/1\n",
      "short_url.com/2\n",
      "short_url.com/3\n",
      "short_url.com/4\n",
      "short_url.com/5\n"
     ]
    }
   ],
   "source": [
    "shortner = URL_shortner()\n",
    "print(shortner.shorten_url(\"goooooooooooooogle.com\"))\n",
    "print(shortner.shorten_url(\"goooooooooooooogle.com\"))\n",
    "print(shortner.shorten_url(\"veryloooooooooooong.com\"))\n",
    "print(shortner.shorten_url(\"helllooooooooooooooo.com\"))\n",
    "print(shortner.shorten_url(\"https://coding_interview.com/question/183658/replaceing-letters-witre\"))\n"
   ]
  },
  {
   "cell_type": "code",
   "execution_count": 11,
   "metadata": {},
   "outputs": [],
   "source": [
    "#Valid check-1\n",
    "class URL_shortner:\n",
    "    id = 1\n",
    "    url2id = {}\n",
    "    \n",
    "    def shorten_url(self, original_url):\n",
    "        if original_url in self.url2id:\n",
    "            id = self.url2id[original_url]\n",
    "            shorten_url = id\n",
    "\n",
    "        else :\n",
    "            self.url2id[original_url] = self.id\n",
    "            shorten_url = self.id\n",
    "            self.id += 1\n",
    "        \n",
    "        return \"short_url.com/\" + str(shorten_url)"
   ]
  },
  {
   "cell_type": "code",
   "execution_count": 12,
   "metadata": {},
   "outputs": [
    {
     "name": "stdout",
     "output_type": "stream",
     "text": [
      "short_url.com/1\n",
      "short_url.com/1\n",
      "short_url.com/2\n",
      "short_url.com/3\n",
      "short_url.com/4\n"
     ]
    }
   ],
   "source": [
    "shortner = URL_shortner()\n",
    "print(shortner.shorten_url(\"goooooooooooooogle.com\"))\n",
    "print(shortner.shorten_url(\"goooooooooooooogle.com\"))\n",
    "print(shortner.shorten_url(\"veryloooooooooooong.com\"))\n",
    "print(shortner.shorten_url(\"helllooooooooooooooo.com\"))\n",
    "print(shortner.shorten_url(\"https://coding_interview.com/question/183658/replaceing-letters-witre\"))\n"
   ]
  },
  {
   "cell_type": "code",
   "execution_count": 17,
   "metadata": {},
   "outputs": [],
   "source": [
    "#62진수\n",
    "#Valid check-1\n",
    "class URL_shortner:\n",
    "    id = 100 #이미 100개의 url이 있다 가정 \n",
    "    url2id = {}\n",
    "    \n",
    "    def shorten_url(self, original_url):\n",
    "        if original_url in self.url2id:\n",
    "            id = self.url2id[original_url]\n",
    "            shorten_url = self.encode(id)\n",
    "\n",
    "        else :\n",
    "            self.url2id[original_url] = self.id\n",
    "            shorten_url = self.encode(self.id)\n",
    "            self.id += 1\n",
    "        \n",
    "        return \"short_url.com/\" + str(shorten_url)\n",
    "    \n",
    "    def encode(self, id):\n",
    "        characters = \"0123456789abcdefghijklmnopqrstuvwxyzABCDEFGHIJKLMNOPQRSTUVWXYZ\"\n",
    "        base = len(characters)\n",
    "        ret = []\n",
    "        \n",
    "        while id > 0:\n",
    "            val = id % base\n",
    "            ret.append(characters[val])\n",
    "            id = id // base\n",
    "            \n",
    "        return \"\".join(ret[::-1])"
   ]
  },
  {
   "cell_type": "code",
   "execution_count": 18,
   "metadata": {},
   "outputs": [
    {
     "name": "stdout",
     "output_type": "stream",
     "text": [
      "short_url.com/1C\n",
      "short_url.com/1C\n",
      "short_url.com/1D\n",
      "short_url.com/1E\n",
      "short_url.com/1F\n"
     ]
    }
   ],
   "source": [
    "shortner = URL_shortner()\n",
    "print(shortner.shorten_url(\"goooooooooooooogle.com\"))\n",
    "print(shortner.shorten_url(\"goooooooooooooogle.com\"))\n",
    "print(shortner.shorten_url(\"veryloooooooooooong.com\"))\n",
    "print(shortner.shorten_url(\"helllooooooooooooooo.com\"))\n",
    "print(shortner.shorten_url(\"https://coding_interview.com/question/183658/replaceing-letters-witre\"))\n",
    "\n",
    "#62진수 출력"
   ]
  },
  {
   "cell_type": "markdown",
   "metadata": {},
   "source": [
    "## 긴 웹 주소를 짧게 만들어주는 서비스를 구현해보도록 하겠습니다.\n",
    "기본적으로 웹주소들이 짧은 URL로 표현되었을 때, 중복된 URL이 없어야하며,\n",
    "100억개의 주소까지는 단축된 주소를 / 이하 길이 6개까지 제한합니다."
   ]
  },
  {
   "cell_type": "markdown",
   "metadata": {},
   "source": [
    "## 시간복잡도 : O(n * log_62(id))\n",
    "\n",
    "총 n개의 URL을 단축시킬 경우, n개의 아이템을 딕셔너리에 저장하는 시간 O(n)이 걸리고,\n",
    "10진수를 62진수로 변경하는 데 log_62(id)만큼의 시간이 걸립니다."
   ]
  },
  {
   "cell_type": "markdown",
   "metadata": {},
   "source": [
    "## 공간복잡도 : O(n)\n",
    "딕셔너리 저장공간 O(n)이 필요합니다."
   ]
  }
 ],
 "metadata": {
  "kernelspec": {
   "display_name": "Python 3",
   "language": "python",
   "name": "python3"
  },
  "language_info": {
   "codemirror_mode": {
    "name": "ipython",
    "version": 3
   },
   "file_extension": ".py",
   "mimetype": "text/x-python",
   "name": "python",
   "nbconvert_exporter": "python",
   "pygments_lexer": "ipython3",
   "version": "3.7.3"
  }
 },
 "nbformat": 4,
 "nbformat_minor": 2
}
