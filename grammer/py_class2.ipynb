{
 "cells": [
  {
   "cell_type": "code",
   "execution_count": 1,
   "metadata": {},
   "outputs": [],
   "source": [
    "#OOP (object oriented programming)\n",
    "#실제 object들을 유연하게 표현함을 목적으로 한다.\n",
    "#object는 어떤 특성을 지니고 있고 특정 기능을 수행할 수 있다\n",
    "#property 와 behavior\n",
    "\n",
    "class Car:\n",
    "    \n",
    "    purchased_year = 2016\n",
    "    milage = 20\n",
    "    velocity = 100\n",
    "    #Car 객체의 특성 = 속성(attribute)\n",
    "    \n",
    "    #Car 객체의 기능 \n",
    "    def accerelate(self):\n",
    "        return Car.velocity + 20\n",
    "    \n",
    "    def deaccerelate(self):\n",
    "        return Car.velocity - 50\n",
    "    \n",
    "#클래스는 object를 생성하는 아키텍쳐(틀)\n",
    "car1 = Car()"
   ]
  },
  {
   "cell_type": "code",
   "execution_count": 6,
   "metadata": {},
   "outputs": [
    {
     "name": "stdout",
     "output_type": "stream",
     "text": [
      "120\n"
     ]
    },
    {
     "data": {
      "text/plain": [
       "120"
      ]
     },
     "execution_count": 6,
     "metadata": {},
     "output_type": "execute_result"
    }
   ],
   "source": [
    "print(car1.accerelate())\n",
    "car1.accerelate()\n",
    "car1.accerelate()"
   ]
  },
  {
   "cell_type": "code",
   "execution_count": 7,
   "metadata": {},
   "outputs": [],
   "source": [
    "class Company:\n",
    "    \n",
    "    company_name = \"gaeasoft\"\n",
    "    return_of_Investment = 5000\n",
    "    benefit = 1000\n",
    "    crew_mates = 100\n",
    "    \n",
    "    def productive(self):\n",
    "        return Company.benefit / Company.crew_mates"
   ]
  },
  {
   "cell_type": "code",
   "execution_count": 10,
   "metadata": {},
   "outputs": [
    {
     "name": "stdout",
     "output_type": "stream",
     "text": [
      "gaeasoft\n",
      "10.0\n"
     ]
    }
   ],
   "source": [
    "print(Company.company_name)\n",
    "print(Company().productive())"
   ]
  },
  {
   "cell_type": "code",
   "execution_count": 12,
   "metadata": {},
   "outputs": [],
   "source": [
    "company1 = Company()"
   ]
  },
  {
   "cell_type": "code",
   "execution_count": 13,
   "metadata": {},
   "outputs": [
    {
     "data": {
      "text/plain": [
       "10.0"
      ]
     },
     "execution_count": 13,
     "metadata": {},
     "output_type": "execute_result"
    }
   ],
   "source": [
    "company1.productive()"
   ]
  },
  {
   "cell_type": "markdown",
   "metadata": {},
   "source": [
    "## 생성자 : 객체의 속성을 초기화 하거나, 활성화 하는 메서드"
   ]
  },
  {
   "cell_type": "code",
   "execution_count": 134,
   "metadata": {},
   "outputs": [
    {
     "ename": "NameError",
     "evalue": "name 'self' is not defined",
     "output_type": "error",
     "traceback": [
      "\u001b[1;31m---------------------------------------------------------------------------\u001b[0m",
      "\u001b[1;31mNameError\u001b[0m                                 Traceback (most recent call last)",
      "\u001b[1;32m<ipython-input-134-7bd6e28799ae>\u001b[0m in \u001b[0;36m<module>\u001b[1;34m\u001b[0m\n\u001b[1;32m----> 1\u001b[1;33m \u001b[1;32mclass\u001b[0m \u001b[0mStudent\u001b[0m\u001b[1;33m:\u001b[0m\u001b[1;33m\u001b[0m\u001b[1;33m\u001b[0m\u001b[0m\n\u001b[0m\u001b[0;32m      2\u001b[0m     \u001b[0mself\u001b[0m\u001b[1;33m.\u001b[0m\u001b[0mname\u001b[0m \u001b[1;33m=\u001b[0m \u001b[1;34m\"ㅇㅂㅇ\"\u001b[0m\u001b[1;33m\u001b[0m\u001b[1;33m\u001b[0m\u001b[0m\n\u001b[0;32m      3\u001b[0m     \u001b[1;31m#메서드\u001b[0m\u001b[1;33m\u001b[0m\u001b[1;33m\u001b[0m\u001b[1;33m\u001b[0m\u001b[0m\n\u001b[0;32m      4\u001b[0m     \u001b[1;32mdef\u001b[0m \u001b[0m__init__\u001b[0m\u001b[1;33m(\u001b[0m\u001b[0mself\u001b[0m\u001b[1;33m,\u001b[0m \u001b[0mname\u001b[0m\u001b[1;33m,\u001b[0m \u001b[0maddress\u001b[0m\u001b[1;33m)\u001b[0m\u001b[1;33m:\u001b[0m \u001b[1;31m#init이 호출된다.\u001b[0m\u001b[1;33m\u001b[0m\u001b[1;33m\u001b[0m\u001b[0m\n\u001b[0;32m      5\u001b[0m                       \u001b[1;31m#self는 instance stu1이다.\u001b[0m\u001b[1;33m\u001b[0m\u001b[1;33m\u001b[0m\u001b[1;33m\u001b[0m\u001b[0m\n",
      "\u001b[1;32m<ipython-input-134-7bd6e28799ae>\u001b[0m in \u001b[0;36mStudent\u001b[1;34m()\u001b[0m\n\u001b[0;32m      1\u001b[0m \u001b[1;32mclass\u001b[0m \u001b[0mStudent\u001b[0m\u001b[1;33m:\u001b[0m\u001b[1;33m\u001b[0m\u001b[1;33m\u001b[0m\u001b[0m\n\u001b[1;32m----> 2\u001b[1;33m     \u001b[0mself\u001b[0m\u001b[1;33m.\u001b[0m\u001b[0mname\u001b[0m \u001b[1;33m=\u001b[0m \u001b[1;34m\"ㅇㅂㅇ\"\u001b[0m\u001b[1;33m\u001b[0m\u001b[1;33m\u001b[0m\u001b[0m\n\u001b[0m\u001b[0;32m      3\u001b[0m     \u001b[1;31m#메서드\u001b[0m\u001b[1;33m\u001b[0m\u001b[1;33m\u001b[0m\u001b[1;33m\u001b[0m\u001b[0m\n\u001b[0;32m      4\u001b[0m     \u001b[1;32mdef\u001b[0m \u001b[0m__init__\u001b[0m\u001b[1;33m(\u001b[0m\u001b[0mself\u001b[0m\u001b[1;33m,\u001b[0m \u001b[0mname\u001b[0m\u001b[1;33m,\u001b[0m \u001b[0maddress\u001b[0m\u001b[1;33m)\u001b[0m\u001b[1;33m:\u001b[0m \u001b[1;31m#init이 호출된다.\u001b[0m\u001b[1;33m\u001b[0m\u001b[1;33m\u001b[0m\u001b[0m\n\u001b[0;32m      5\u001b[0m                       \u001b[1;31m#self는 instance stu1이다.\u001b[0m\u001b[1;33m\u001b[0m\u001b[1;33m\u001b[0m\u001b[1;33m\u001b[0m\u001b[0m\n",
      "\u001b[1;31mNameError\u001b[0m: name 'self' is not defined"
     ]
    }
   ],
   "source": [
    "class Student:\n",
    "    self.name = \"ㅇㅂㅇ\"\n",
    "    #메서드\n",
    "    def __init__(self, name, address): #init이 호출된다.\n",
    "                      #self는 instance stu1이다.\n",
    "        self.address = address\n",
    "    \n",
    "    def do_somth(self):\n",
    "        print(self.name + self.address)\n",
    "        \n",
    "stu1 = Student(\"ㅇㅅㅇ\",\"ㅎㅅㅎ\") #Obj를 Instance 화 한다. \n",
    "stu1.do_somth() \n",
    "Student.do_somth(stu1) # class method를 호출하는 방법들  "
   ]
  },
  {
   "cell_type": "markdown",
   "metadata": {},
   "source": [
    "## 변수 "
   ]
  },
  {
   "cell_type": "code",
   "execution_count": 45,
   "metadata": {},
   "outputs": [
    {
     "name": "stdout",
     "output_type": "stream",
     "text": [
      "0.1\n",
      "3000\n"
     ]
    }
   ],
   "source": [
    "class Company:\n",
    "    \"\"\" class variable \"\"\"\n",
    "    growth = 0.1\n",
    "    \n",
    "    def __init__(self, company_name, revenue, employee_size):\n",
    "        \"\"\" instance variable \"\"\"\n",
    "        self.company_name = company_name\n",
    "        self.revenue = revenue\n",
    "        self.employee_size = employee_size\n",
    "        \n",
    "#클래스 변수 \n",
    "print(Company.growth)\n",
    "\n",
    "#인스턴스 변수\n",
    "bank = Company(\"ㅇㅅㅇ\", 3000, 10)\n",
    "print(bank.revenue)"
   ]
  },
  {
   "cell_type": "code",
   "execution_count": null,
   "metadata": {},
   "outputs": [],
   "source": [
    "### *args 테스트 해보기 #####################################################################\n",
    "\n",
    "class Company:\n",
    "    \"\"\" class variable \"\"\"\n",
    "    growth = 0.1\n",
    "    \n",
    "    def __init__(self, company_name, revenue, employee_size):\n",
    "        \"\"\" instance variable \"\"\"\n",
    "        self.company_name = company_name\n",
    "        self.revenue = revenue\n",
    "        self.employee_size = employee_size\n",
    "        \n",
    "#클래스 변수 \n",
    "print(Company.growth)\n",
    "\n",
    "#인스턴스 변수\n",
    "bank = Company(\"ㅇㅅㅇ\", 3000, 10)\n",
    "print(bank.revenue)"
   ]
  },
  {
   "cell_type": "markdown",
   "metadata": {},
   "source": [
    "## 메서드"
   ]
  },
  {
   "cell_type": "code",
   "execution_count": 151,
   "metadata": {
    "scrolled": true
   },
   "outputs": [
    {
     "name": "stdout",
     "output_type": "stream",
     "text": [
      "ㅇㅅㅇ\n",
      "220.0\n",
      "1\n"
     ]
    }
   ],
   "source": [
    "#instance method => (self,) 가 첫 parameter 이며, \n",
    "\n",
    "#class method => cls를 첫 parameter로 사용하며, 클래스를 나타냅니다. \n",
    "#메서드 내에서 클래스 변수에 엑세스 하기 위해 @classmethod 데코를 사용하여 클래스를 메서드에 전달합니다.\n",
    "\n",
    "#static method 첫 번째 인수로서 아무 것도 사용하지 않으며 사용 용도가 제한되어 있습니다.\n",
    "#객체 없이 호출 할 수 있다는 것.\n",
    "\n",
    "class Cab:\n",
    "    \n",
    "    #클래스 변수 초기화\n",
    "    number_of_cabs = 0\n",
    "    number_of_passengers = 0\n",
    "    \n",
    "    def __init__(self, driver, kms, places, pay, passengers):\n",
    "        self.driver = driver\n",
    "        self.running = kms\n",
    "        self.places = places\n",
    "        self.bill = pay\n",
    "        #Cab.number_of_cabs = Cab.number_of_cabs + 1\n",
    "        Cab.number_of_passengers = Cab.number_of_passengers + passengers\n",
    "        \n",
    "    #km당 택시 운임을 반환\n",
    "    def rate_per_km(self):\n",
    "        return self.bill / self.running\n",
    "    \n",
    "    #운행중인 택시 댓수 반환\n",
    "    @classmethod\n",
    "    def no_of_cabs(cls):\n",
    "        cls.number_of_cabs = cls.number_of_cabs + 1\n",
    "        return cls.number_of_cabs\n",
    "    \n",
    "    #현재 택시 이용 승객 평균 수\n",
    "    @classmethod\n",
    "    def avg_no_of_passengers(cls):\n",
    "        return int(cls.number_of_passengers / cls.number_of_cabs)\n",
    "    \n",
    "first_cab = Cab(\"ㅇㅅㅇ\", 10, [\"반포\",\"구의\"], 2200, 3)\n",
    "second_cab = Cab(\"ㅎㅅㅎ\", 20, [\"시흥\",\"신림\"], 1500, 1)\n",
    "third_cab = Cab(\"ㅇㅂㅇ\", 30, [\"화곡\",\"봉천\"], 600, 2)\n",
    "\n",
    "print(first_cab.driver)\n",
    "print(first_cab.rate_per_km())\n",
    "\n",
    "# print(Cab.no_of_cabs(first_cab))\n",
    "print(first_cab.no_of_cabs())\n",
    "\n",
    "# print(Cab.number_of_cabs)\n",
    "# print(Cab.avg_no_of_passengers())\n",
    "        "
   ]
  },
  {
   "cell_type": "code",
   "execution_count": 147,
   "metadata": {},
   "outputs": [
    {
     "ename": "TypeError",
     "evalue": "bill_validation() missing 1 required positional argument: 'cls'",
     "output_type": "error",
     "traceback": [
      "\u001b[1;31m---------------------------------------------------------------------------\u001b[0m",
      "\u001b[1;31mTypeError\u001b[0m                                 Traceback (most recent call last)",
      "\u001b[1;32m<ipython-input-147-2a4e800b5685>\u001b[0m in \u001b[0;36m<module>\u001b[1;34m\u001b[0m\n\u001b[0;32m      5\u001b[0m         \u001b[1;32mreturn\u001b[0m \u001b[0mint\u001b[0m\u001b[1;33m(\u001b[0m\u001b[0mcls\u001b[0m\u001b[1;33m.\u001b[0m\u001b[0mpay\u001b[0m\u001b[1;33m)\u001b[0m \u001b[1;33m>\u001b[0m \u001b[1;36m0\u001b[0m\u001b[1;33m\u001b[0m\u001b[1;33m\u001b[0m\u001b[0m\n\u001b[0;32m      6\u001b[0m \u001b[1;33m\u001b[0m\u001b[0m\n\u001b[1;32m----> 7\u001b[1;33m \u001b[0mprint\u001b[0m\u001b[1;33m(\u001b[0m\u001b[0mCab\u001b[0m\u001b[1;33m.\u001b[0m\u001b[0mbill_validation\u001b[0m\u001b[1;33m(\u001b[0m\u001b[1;33m)\u001b[0m\u001b[1;33m)\u001b[0m\u001b[1;33m\u001b[0m\u001b[1;33m\u001b[0m\u001b[0m\n\u001b[0m\u001b[0;32m      8\u001b[0m \u001b[0mprint\u001b[0m\u001b[1;33m(\u001b[0m\u001b[0mCab\u001b[0m\u001b[1;33m.\u001b[0m\u001b[0mbill_validation\u001b[0m\u001b[1;33m(\u001b[0m\u001b[1;33m)\u001b[0m\u001b[1;33m)\u001b[0m\u001b[1;33m\u001b[0m\u001b[1;33m\u001b[0m\u001b[0m\n",
      "\u001b[1;31mTypeError\u001b[0m: bill_validation() missing 1 required positional argument: 'cls'"
     ]
    }
   ],
   "source": [
    "class Cab:\n",
    "    pay = 3\n",
    "    @staticmethod\n",
    "    def bill_validation(cls):\n",
    "        return int(cls.pay) > 0\n",
    "    \n",
    "print(Cab.bill_validation())\n",
    "print(Cab.bill_validation())"
   ]
  },
  {
   "cell_type": "markdown",
   "metadata": {},
   "source": [
    "## 상속"
   ]
  },
  {
   "cell_type": "code",
   "execution_count": 58,
   "metadata": {},
   "outputs": [
    {
     "name": "stdout",
     "output_type": "stream",
     "text": [
      "차1\n",
      "4\n"
     ]
    }
   ],
   "source": [
    "class Vehicle:\n",
    "    \n",
    "    def __init__(self, driver, wheels, seats):\n",
    "        self.driver = driver\n",
    "        self.number_of_wheels = wheels\n",
    "        self.number_of_seats = seats\n",
    "        \n",
    "class Cab(Vehicle):\n",
    "    pass\n",
    "\n",
    "cab_1 = Cab(\"차1\", 4, 2)\n",
    "cab_2 = Cab(\"용자가\", 4, 4)\n",
    "print(cab_1.driver)\n",
    "print(cab_2.number_of_seats)"
   ]
  },
  {
   "cell_type": "code",
   "execution_count": 158,
   "metadata": {},
   "outputs": [
    {
     "name": "stdout",
     "output_type": "stream",
     "text": [
      "50\n",
      "50\n"
     ]
    }
   ],
   "source": [
    "class Vehicle:\n",
    "    \n",
    "    minimum_rate = 50\n",
    "    \n",
    "    def __init__(self, driver, wheels, seats):\n",
    "        self.driver = driver\n",
    "        self.no_of_wheels = wheels\n",
    "        self.no_of_seats = seats\n",
    "        \n",
    "class Cab(Vehicle):\n",
    "    pass\n",
    "#     minimum_rate = super().minimum_rate + 75 #서브클래스의 변수를 변경하는 방법\n",
    "    \n",
    "print(Vehicle.minimum_rate)\n",
    "print(Cab.minimum_rate)"
   ]
  },
  {
   "cell_type": "code",
   "execution_count": 59,
   "metadata": {},
   "outputs": [
    {
     "name": "stdout",
     "output_type": "stream",
     "text": [
      "SUV\n",
      "14.0\n",
      "그린\n",
      "8.0\n"
     ]
    }
   ],
   "source": [
    "class Vehicle:\n",
    "    \n",
    "    minimum_rate = 50\n",
    "    \n",
    "    def __init__(self, driver, wheels, seats, kms, bill):\n",
    "        self.driver = driver\n",
    "        self.no_of_wheels = wheels\n",
    "        self.no_of_seats = seats\n",
    "        self.running = kms\n",
    "        self.bill = bill\n",
    "        \n",
    "    def rate_per_km(self):\n",
    "        return self.bill / self.running\n",
    "    \n",
    "class Cab(Vehicle):\n",
    "    \n",
    "    minimum_rate = 75\n",
    "    \n",
    "    def __init__(self, driver, wheels, seats, kms, bill, cab_type): #cab_type을 추가,\n",
    "        Vehicle.__init__(self, driver, wheels, seats, kms, bill)\n",
    "        #super().__init__(driver,wheels,seats,kms,bill) #super 사용시에는 self 사용을 하면 안된다\n",
    "        self.category = cab_type\n",
    "        \n",
    "class Bus(Vehicle):\n",
    "    \n",
    "    minimum_rate = 25\n",
    "    \n",
    "    def __init__(self, driver, wheels, seats, kms, bill, color):\n",
    "        #Vehicle.__init__(self, driver, wheels, seats, kms, bill) # Q. 선택적 상속이 가능할까?\n",
    "        super().__init__(driver, wheels, seats, kms, bill) # Q. 선택적 상속이 가능할까?\n",
    "        self.color = color\n",
    "        \n",
    "cab_1 = Cab(\"ㅇㅅㅇ\", 4, 3, 50, 700, 'SUV')\n",
    "print(cab_1.category)\n",
    "print(cab_1.rate_per_km())\n",
    "\n",
    "bus_1 = Bus(\"ㅎㅅㅎ\", 4, 10, 50, 400, '그린')\n",
    "print(bus_1.color)\n",
    "print(bus_1.rate_per_km())"
   ]
  },
  {
   "cell_type": "markdown",
   "metadata": {},
   "source": [
    "## OOP 다형성"
   ]
  },
  {
   "cell_type": "code",
   "execution_count": 159,
   "metadata": {},
   "outputs": [
    {
     "name": "stdout",
     "output_type": "stream",
     "text": [
      "parent class method\n",
      "None\n",
      "child cab class method\n",
      "None\n",
      "child bus class method\n",
      "None\n"
     ]
    }
   ],
   "source": [
    "#메서드 오버라이딩\n",
    "#메서드 재 정의를 통해서, 자식 클래스에 부모 클래스와 이름이 같은 메서드를 \n",
    "#사용 할 수 있으며, 자식 클래스 메서드의 정의는 부모 클래스 메서드와 다름\n",
    "class Vehicle:\n",
    "    def message(self):\n",
    "        print(\"parent class method\")\n",
    "        \n",
    "class Cab(Vehicle):\n",
    "    def message(self):\n",
    "        print(\"child cab class method\")\n",
    "        \n",
    "class Bus(Vehicle):\n",
    "    def message(self):\n",
    "        print(\"child bus class method\")\n",
    "        \n",
    "x = Vehicle()\n",
    "print(x.message()) #None이 왜 뜨는거지?\n",
    "# Parent calss method\n",
    "\n",
    "y = Cab()\n",
    "print(y.message())\n",
    "# Child Cab class method\n",
    "\n",
    "z = Bus()\n",
    "print(z.message())\n",
    "# Child Bus class method"
   ]
  },
  {
   "cell_type": "code",
   "execution_count": 169,
   "metadata": {},
   "outputs": [],
   "source": [
    "#오버로딩 _ 1 \n",
    "class Korea:\n",
    "\n",
    "    def __init__(self, name,population, captial):\n",
    "        self.name = name\n",
    "        self.population = population\n",
    "        self.capital = captial\n",
    "\n",
    "\n",
    "    def show(self, abc):\n",
    "        print('abc :', abc) \n",
    "\n",
    "    def show(self):\n",
    "        print(\n",
    "            \"\"\"\n",
    "            국가의 이름은 {} 입니다.\n",
    "            국가의 인구는 {} 입니다.\n",
    "            국가의 수도는 {} 입니다.\n",
    "            \"\"\".format(self.name, self.population, self.capital)\n",
    "        )\n",
    "        \n",
    "\n"
   ]
  },
  {
   "cell_type": "code",
   "execution_count": 170,
   "metadata": {},
   "outputs": [
    {
     "name": "stdout",
     "output_type": "stream",
     "text": [
      "\n",
      "            국가의 이름은 대한민국 입니다.\n",
      "            국가의 인구는 50000000 입니다.\n",
      "            국가의 수도는 서울 입니다.\n",
      "            \n"
     ]
    }
   ],
   "source": [
    ">>> a = Korea('대한민국',50000000, '서울')\n",
    ">>> a.show()"
   ]
  },
  {
   "cell_type": "code",
   "execution_count": 130,
   "metadata": {},
   "outputs": [
    {
     "name": "stdout",
     "output_type": "stream",
     "text": [
      "Welcome to py world\n",
      "My message - Life is beutiful\n"
     ]
    }
   ],
   "source": [
    "#메서드 오버로딩 (funtion 또는 연산자가 전달되는 매개변수 또는 연산자가 작동하는 피연산자에 따라 다르게 동작하는 기능)\n",
    "class Message:\n",
    "    def details(self, phrase=None):\n",
    "        if phrase is not None:\n",
    "            print('My message - ' + phrase)\n",
    "        else:\n",
    "            print('Welcome to py world')\n",
    "            \n",
    "# 객체 생성\n",
    "x = Message()\n",
    "\n",
    "# 인수 없이 호출\n",
    "x.details()\n",
    "\n",
    "# 한 개의 인수를 사용하여 호출\n",
    "x.details('Life is beutiful')"
   ]
  },
  {
   "cell_type": "code",
   "execution_count": 131,
   "metadata": {},
   "outputs": [],
   "source": []
  },
  {
   "cell_type": "code",
   "execution_count": null,
   "metadata": {},
   "outputs": [],
   "source": []
  },
  {
   "cell_type": "code",
   "execution_count": 17,
   "metadata": {},
   "outputs": [
    {
     "name": "stdout",
     "output_type": "stream",
     "text": [
      "hello \n",
      "hello Hank\n"
     ]
    }
   ],
   "source": [
    "class Human:\n",
    "    def say_hello(self, name=None):\n",
    "        if name is not None:\n",
    "            print('hello '+ name)\n",
    "        else:\n",
    "            print('hello ')\n",
    "            \n",
    "# 객체 생성\n",
    "obj = Human()\n",
    "\n",
    "# 인수 없이 호출\n",
    "obj.say_hello()\n",
    "\n",
    "# 한 개의 인수를 사용하여 호출\n",
    "obj.say_hello('Hank')"
   ]
  },
  {
   "cell_type": "code",
   "execution_count": 19,
   "metadata": {},
   "outputs": [
    {
     "name": "stdout",
     "output_type": "stream",
     "text": [
      "면적 0\n",
      "면적 16\n",
      "면적 15\n"
     ]
    }
   ],
   "source": [
    "# class\n",
    "class Compute:\n",
    "    #area method\n",
    "    \n",
    "    def area(self, x = None, y = None):\n",
    "        if x != None and y != None:\n",
    "            return x * y\n",
    "        elif x != None:\n",
    "            return x * x\n",
    "        else:\n",
    "            return 0\n",
    "        \n",
    "# object\n",
    "obj = Compute()\n",
    "\n",
    "#zero argument\n",
    "print(\"면적\", obj.area())\n",
    "\n",
    "#one argument\n",
    "print(\"면적\", obj.area(4))\n",
    "\n",
    "#two argument\n",
    "print(\"면적\", obj.area(3, 5))"
   ]
  },
  {
   "cell_type": "markdown",
   "metadata": {},
   "source": [
    "## __str__\n",
    "#객체에 대해서 print(객체) 했을 때 읽을 수 있는 의미있는 표현을 생성하는데 사용"
   ]
  },
  {
   "cell_type": "code",
   "execution_count": 63,
   "metadata": {},
   "outputs": [
    {
     "name": "stdout",
     "output_type": "stream",
     "text": [
      "<__main__.Vehicle object at 0x000002400CE14F28>\n"
     ]
    }
   ],
   "source": [
    "class Vehicle:\n",
    "    \n",
    "    def __init__(self, driver, wheels, seats):\n",
    "        self.driver = driver\n",
    "        self.number_of_wheels = wheels\n",
    "        self.number_of_seats = seats\n",
    "        \n",
    "veh_1 = Vehicle(\"ㅇㅅㅇ\", 4, 2)\n",
    "print(veh_1)"
   ]
  },
  {
   "cell_type": "code",
   "execution_count": 64,
   "metadata": {},
   "outputs": [
    {
     "name": "stdout",
     "output_type": "stream",
     "text": [
      "운전자: ㅇㅅㅇ, 승객 수: 2\n"
     ]
    }
   ],
   "source": [
    "class Vehicle:\n",
    "    \n",
    "    def __init__(self, driver, wheels, seats):\n",
    "        self.driver = driver\n",
    "        self.no_of_wheels = wheels\n",
    "        self.no_of_seats = seats\n",
    "        \n",
    "    def __str__(self):\n",
    "        return \"운전자: \" + self.driver +\", \"+ \"승객 수: \" + str(self.no_of_seats)\n",
    "    \n",
    "veh_1 = Vehicle(\"ㅇㅅㅇ\", 4, 2)\n",
    "print(veh_1)"
   ]
  },
  {
   "cell_type": "code",
   "execution_count": 72,
   "metadata": {},
   "outputs": [
    {
     "name": "stdout",
     "output_type": "stream",
     "text": [
      "<zip object at 0x0000024009A7D208>\n"
     ]
    }
   ],
   "source": [
    "# class Test:\n",
    "    \n",
    "#     matrix = [\n",
    "#         [1, 2, 3],\n",
    "#         [4, 5, 6],\n",
    "#         [7, 8, 9],\n",
    "#     ]\n",
    "    \n",
    "#     def __init__(self, x):\n",
    "#         self.x = x\n",
    "        \n",
    "#     def transpose(self):\n",
    "#         []\n",
    "        \n",
    "#     def __str__(self):\n",
    "#         return \"zip\" + self.x\n",
    "    \n",
    "# print(t.matrix)\n"
   ]
  },
  {
   "cell_type": "markdown",
   "metadata": {},
   "source": [
    "## OOP 데이터 인캡슐레이션 Data Encapsulation"
   ]
  },
  {
   "cell_type": "code",
   "execution_count": 172,
   "metadata": {},
   "outputs": [
    {
     "ename": "AttributeError",
     "evalue": "'Flat' object has no attribute '__sum'",
     "output_type": "error",
     "traceback": [
      "\u001b[1;31m---------------------------------------------------------------------------\u001b[0m",
      "\u001b[1;31mAttributeError\u001b[0m                            Traceback (most recent call last)",
      "\u001b[1;32m<ipython-input-172-14cbe754f442>\u001b[0m in \u001b[0;36m<module>\u001b[1;34m\u001b[0m\n\u001b[0;32m     14\u001b[0m \u001b[1;31m# print(flat1.type)\u001b[0m\u001b[1;33m\u001b[0m\u001b[1;33m\u001b[0m\u001b[1;33m\u001b[0m\u001b[0m\n\u001b[0;32m     15\u001b[0m \u001b[1;31m# print(flat1.__model)\u001b[0m\u001b[1;33m\u001b[0m\u001b[1;33m\u001b[0m\u001b[1;33m\u001b[0m\u001b[0m\n\u001b[1;32m---> 16\u001b[1;33m \u001b[0mprint\u001b[0m\u001b[1;33m(\u001b[0m\u001b[0mflat1\u001b[0m\u001b[1;33m.\u001b[0m\u001b[0m__sum\u001b[0m\u001b[1;33m(\u001b[0m\u001b[1;36m1\u001b[0m\u001b[1;33m,\u001b[0m\u001b[1;36m2\u001b[0m\u001b[1;33m)\u001b[0m\u001b[1;33m)\u001b[0m\u001b[1;33m\u001b[0m\u001b[1;33m\u001b[0m\u001b[0m\n\u001b[0m",
      "\u001b[1;31mAttributeError\u001b[0m: 'Flat' object has no attribute '__sum'"
     ]
    }
   ],
   "source": [
    "class Flat:\n",
    "    \n",
    "    def __init__(self):\n",
    "        self.type = \"premium\"\n",
    "        self.__model = \"DE300XYZ\"\n",
    "    \n",
    "    def __sum(self, x, y):\n",
    "        self.x = x\n",
    "        self.y = y\n",
    "        result = self.x + self.y\n",
    "\n",
    "flat1 = Flat()\n",
    "\n",
    "# print(flat1.type)\n",
    "# print(flat1.__model)\n",
    "print(flat1.__sum(1,2))"
   ]
  },
  {
   "cell_type": "markdown",
   "metadata": {},
   "source": [
    "## OOP getter setter "
   ]
  },
  {
   "cell_type": "code",
   "execution_count": 102,
   "metadata": {},
   "outputs": [
    {
     "name": "stdout",
     "output_type": "stream",
     "text": [
      "Hank Rah\n",
      "Hank.Rah@naver.com\n"
     ]
    }
   ],
   "source": [
    "class Vehicle:\n",
    "    \n",
    "    def __init__(self, firstname, lastname):\n",
    "        self.first_name = firstname\n",
    "        self.last_name = lastname\n",
    "        self.email = self.first_name + '.' + self.last_name + '@naver.com'\n",
    "        \n",
    "veh1 = Vehicle(\"Hank\", \"Rah\")\n",
    "\n",
    "print(veh1.first_name, veh1.last_name)\n",
    "print(veh1.email)"
   ]
  },
  {
   "cell_type": "code",
   "execution_count": 105,
   "metadata": {},
   "outputs": [
    {
     "name": "stdout",
     "output_type": "stream",
     "text": [
      "ㅎㅅㅎ\n",
      "Hank.Rah@naver.com\n"
     ]
    }
   ],
   "source": [
    "veh1.first_name = 'ㅎㅅㅎ'\n",
    "print(veh1.first_name)\n",
    "print(veh1.email)\n",
    "#객체가 변경되었지만, email이 자동으로 변경되지 않는다."
   ]
  },
  {
   "cell_type": "code",
   "execution_count": 110,
   "metadata": {},
   "outputs": [
    {
     "name": "stdout",
     "output_type": "stream",
     "text": [
      "ㅎㅅㅎ.Rah@naver.com\n"
     ]
    }
   ],
   "source": [
    "class Vehicle:\n",
    "    \n",
    "    def __init__(self, firstname, lastname):\n",
    "        self.first_name = firstname\n",
    "        self.last_name = lastname\n",
    "        \n",
    "    @property #email 메서드의 동작을 변경할 수 있다.\n",
    "    def email(self):\n",
    "        return self.first_name + '.' + self.last_name + '@naver.com'\n",
    "    \n",
    "veh1 = Vehicle(\"Hank\", \"Rah\")\n",
    "veh1.first_name = 'ㅎㅅㅎ'\n",
    "print(veh1.email)"
   ]
  },
  {
   "cell_type": "code",
   "execution_count": 126,
   "metadata": {},
   "outputs": [
    {
     "name": "stdout",
     "output_type": "stream",
     "text": [
      "Hank Rah\n",
      "highest mountain\n",
      "mountain highest...리버스\n"
     ]
    }
   ],
   "source": [
    "class Vehicle:\n",
    "    \n",
    "    def __init__(self, firstname, lastname):\n",
    "        self.first_name = firstname\n",
    "        self.last_name = lastname\n",
    "    \n",
    "    @property\n",
    "    def email(self):\n",
    "        return self.fisrt_name + '.' + self.last_name + '@gmail.com'\n",
    "    \n",
    "    @email.setter\n",
    "    def email(self, address):\n",
    "        first = address[  :    address.find('.')]\n",
    "        last = address[address.find('.') + 1    :      address.find('@')] # 슬라이싱\n",
    "        self.first_name = first\n",
    "        self.last_name = last\n",
    "        \n",
    "#     @email.setter\n",
    "#     def swap(self, text):\n",
    "#         temp = self.first_name\n",
    "#         self.first_name = self.last_name\n",
    "#         self.last_name = temp + \"...\"+ text\n",
    "\n",
    "\n",
    "veh1 = Vehicle(\"Hank\",\"Rah\")\n",
    "print(veh1.first_name + \" \" + veh1.last_name)\n",
    "\n",
    "veh1.email = 'highest.mountain@naver.com'\n",
    "print(veh1.first_name + \" \" + veh1.last_name)\n",
    "\n",
    "veh1.swap =\"리버스\"\n",
    "print(veh1.first_name + \" \" + veh1.last_name)"
   ]
  },
  {
   "cell_type": "code",
   "execution_count": 107,
   "metadata": {},
   "outputs": [
    {
     "name": "stdout",
     "output_type": "stream",
     "text": [
      "Hank Rah\n",
      "ㅇㅅㅇ ㅎㅅㅎ\n"
     ]
    }
   ],
   "source": [
    "class Person:\n",
    "    #getter : 변수의 값을 읽어들이는\n",
    "    #setter : 변수의 값을 업데이트하는\n",
    "    \n",
    "    def __init__(self,firstname = None, lastname = None):\n",
    "        self.__firstname = firstname\n",
    "        self.__lastname = lastname\n",
    "        \n",
    "    def get_name(self):\n",
    "        return self.__firstname +\" \" + self.__lastname\n",
    "    \n",
    "    def set_name(self, firstname = None, lastname = None):\n",
    "            self.__firstname = firstname\n",
    "            self.__lastname = lastname\n",
    "            \n",
    "person1 = Person(\"Hank\", \"Rah\")\n",
    "print(person1.get_name())\n",
    "\n",
    "person1.set_name(\"ㅇㅅㅇ\",\"ㅎㅅㅎ\")\n",
    "print(person1.get_name())"
   ]
  },
  {
   "cell_type": "code",
   "execution_count": 176,
   "metadata": {},
   "outputs": [
    {
     "name": "stdout",
     "output_type": "stream",
     "text": [
      "100000\n"
     ]
    }
   ],
   "source": [
    "#Validation _ 1 \n",
    "class Donation:\n",
    "    \n",
    "    def __init__(self, amount):\n",
    "        self.__amount = amount\n",
    "        \n",
    "    @property\n",
    "    def amount(self):\n",
    "        return self.__amount\n",
    "    \n",
    "    @amount.setter\n",
    "    def amount(self, amount):\n",
    "        if amount < 10:\n",
    "            self.__amount = 10\n",
    "        elif amount > 100000:\n",
    "            self.__amount = 100000\n",
    "        else:\n",
    "            self.__amount = amount\n",
    "            \n",
    "charity = Donation(999999999)\n",
    "charity.amount = 888888\n",
    "print(charity.amount)"
   ]
  },
  {
   "cell_type": "code",
   "execution_count": 129,
   "metadata": {},
   "outputs": [
    {
     "ename": "ValueError",
     "evalue": "첫 두글자가 대문자가 아닙니다",
     "output_type": "error",
     "traceback": [
      "\u001b[1;31m---------------------------------------------------------------------------\u001b[0m",
      "\u001b[1;31mValueError\u001b[0m                                Traceback (most recent call last)",
      "\u001b[1;32m<ipython-input-129-7eca12e74c3f>\u001b[0m in \u001b[0;36m<module>\u001b[1;34m\u001b[0m\n\u001b[0;32m     16\u001b[0m         \u001b[1;32mreturn\u001b[0m \u001b[0mself\u001b[0m\u001b[1;33m.\u001b[0m\u001b[0m_number\u001b[0m\u001b[1;33m\u001b[0m\u001b[1;33m\u001b[0m\u001b[0m\n\u001b[0;32m     17\u001b[0m \u001b[1;33m\u001b[0m\u001b[0m\n\u001b[1;32m---> 18\u001b[1;33m \u001b[0mf\u001b[0m \u001b[1;33m=\u001b[0m \u001b[0mFlight\u001b[0m\u001b[1;33m(\u001b[0m\u001b[1;34m\"abc\"\u001b[0m\u001b[1;33m)\u001b[0m\u001b[1;33m\u001b[0m\u001b[1;33m\u001b[0m\u001b[0m\n\u001b[0m",
      "\u001b[1;32m<ipython-input-129-7eca12e74c3f>\u001b[0m in \u001b[0;36m__init__\u001b[1;34m(self, number)\u001b[0m\n\u001b[0;32m      7\u001b[0m             \u001b[1;32mraise\u001b[0m \u001b[0mValueError\u001b[0m\u001b[1;33m(\u001b[0m\u001b[1;34m\"첫 두글자가 알파벳이 아닙니다\"\u001b[0m\u001b[1;33m)\u001b[0m\u001b[1;33m\u001b[0m\u001b[1;33m\u001b[0m\u001b[0m\n\u001b[0;32m      8\u001b[0m         \u001b[1;32mif\u001b[0m \u001b[1;32mnot\u001b[0m \u001b[0mnumber\u001b[0m\u001b[1;33m[\u001b[0m\u001b[1;33m:\u001b[0m\u001b[1;36m2\u001b[0m\u001b[1;33m]\u001b[0m\u001b[1;33m.\u001b[0m\u001b[0misupper\u001b[0m\u001b[1;33m(\u001b[0m\u001b[1;33m)\u001b[0m\u001b[1;33m:\u001b[0m\u001b[1;33m\u001b[0m\u001b[1;33m\u001b[0m\u001b[0m\n\u001b[1;32m----> 9\u001b[1;33m             \u001b[1;32mraise\u001b[0m \u001b[0mValueError\u001b[0m\u001b[1;33m(\u001b[0m\u001b[1;34m\"첫 두글자가 대문자가 아닙니다\"\u001b[0m\u001b[1;33m)\u001b[0m\u001b[1;33m\u001b[0m\u001b[1;33m\u001b[0m\u001b[0m\n\u001b[0m\u001b[0;32m     10\u001b[0m         \u001b[1;32mif\u001b[0m \u001b[1;32mnot\u001b[0m \u001b[0mnumber\u001b[0m\u001b[1;33m[\u001b[0m\u001b[1;36m2\u001b[0m\u001b[1;33m:\u001b[0m\u001b[1;33m]\u001b[0m\u001b[1;33m.\u001b[0m\u001b[0misdigit\u001b[0m\u001b[1;33m(\u001b[0m\u001b[1;33m)\u001b[0m\u001b[1;33m:\u001b[0m\u001b[1;33m\u001b[0m\u001b[1;33m\u001b[0m\u001b[0m\n\u001b[0;32m     11\u001b[0m             \u001b[1;32mraise\u001b[0m \u001b[0mValueError\u001b[0m\u001b[1;33m(\u001b[0m\u001b[1;34m\"세번째 글자 이상이, 양의 숫자가 아닙니다.\"\u001b[0m\u001b[1;33m)\u001b[0m\u001b[1;33m\u001b[0m\u001b[1;33m\u001b[0m\u001b[0m\n",
      "\u001b[1;31mValueError\u001b[0m: 첫 두글자가 대문자가 아닙니다"
     ]
    }
   ],
   "source": [
    "#Validation _ 2 \n",
    "#raise ValueError\n",
    "class Flight:\n",
    "    \n",
    "    def __init__(self, number):\n",
    "        if not number[:2].isalpha():\n",
    "            raise ValueError(\"첫 두글자가 알파벳이 아닙니다\")\n",
    "        if not number[:2].isupper():\n",
    "            raise ValueError(\"첫 두글자가 대문자가 아닙니다\")\n",
    "        if not number[2:].isdigit():\n",
    "            raise ValueError(\"세번째 글자 이상이, 양의 숫자가 아닙니다.\")\n",
    "            \n",
    "        self._number = number\n",
    "    \n",
    "    def number(self):\n",
    "        return self._number\n",
    "    \n",
    "f = Flight(\"abc\")"
   ]
  },
  {
   "cell_type": "markdown",
   "metadata": {},
   "source": [
    "## import class"
   ]
  },
  {
   "cell_type": "code",
   "execution_count": 28,
   "metadata": {},
   "outputs": [],
   "source": [
    "# class Cab:\n",
    "    \n",
    "#     #initialize variable\n",
    "#     number_of_cabs = 0\n",
    "    \n",
    "#     def __init__(self, driver, kms, pay):\n",
    "#         self.driver = driver\n",
    "#         self.running = kms\n",
    "#         self.bill = pay\n",
    "#         Cab.number_of_cabs = Cab.number_of_cabs + 1\n",
    "        \n",
    "#     #km당 평균 금액을 리턴\n",
    "#     def rate_per_km(self):\n",
    "#         return self.bill / self.running\n",
    "    \n",
    "#     #주행 중인 택시 댓수 리턴\n",
    "#     @classmethod\n",
    "#     def no_of_cabs(cls):\n",
    "#         return cls.number_of_cabs\n",
    "    \n",
    "# if __name__ == \"__main__\":\n",
    "#     # Cab class\n",
    "#     first_cab = Cab(\"ㅇㅅㅇ\", 80, 1200)\n",
    "    \n",
    "#     #driver attribute in Cab class\n",
    "#     print(first_cab.driver)\n",
    "    \n",
    "#     #class method\n",
    "#     print(Cab.no_of_cabs())"
   ]
  },
  {
   "cell_type": "code",
   "execution_count": 29,
   "metadata": {},
   "outputs": [],
   "source": [
    "import os\n",
    "#C:\\Users\\gaeasoft\\.m2\n",
    "os.chdir(\"C:\\/Users/gaeasoft/\")\n",
    "import cab"
   ]
  },
  {
   "cell_type": "code",
   "execution_count": 33,
   "metadata": {},
   "outputs": [
    {
     "name": "stdout",
     "output_type": "stream",
     "text": [
      "ㅎㅅㅎ\n",
      "16.666666666666668\n",
      "4\n"
     ]
    }
   ],
   "source": [
    "#cab class in module.py\n",
    "first_cab = cab.Cab(\"ㅎㅅㅎ\", 90, 1500)\n",
    "\n",
    "print(first_cab.driver)\n",
    "\n",
    "print(first_cab.rate_per_km())\n",
    "\n",
    "print(cab.Cab.no_of_cabs())"
   ]
  },
  {
   "cell_type": "code",
   "execution_count": 177,
   "metadata": {},
   "outputs": [
    {
     "name": "stdout",
     "output_type": "stream",
     "text": [
      "0.0025\n"
     ]
    }
   ],
   "source": [
    "from cab import *\n",
    "\n",
    "\n",
    "\n",
    "second_cab = Cab(\"ㅇㅂㅇ\", 1200, 3)\n",
    "\n",
    "print(second_cab.rate_per_km())"
   ]
  },
  {
   "cell_type": "code",
   "execution_count": 180,
   "metadata": {},
   "outputs": [
    {
     "ename": "SyntaxError",
     "evalue": "invalid syntax (<ipython-input-180-a844b1a59e25>, line 2)",
     "output_type": "error",
     "traceback": [
      "\u001b[1;36m  File \u001b[1;32m\"<ipython-input-180-a844b1a59e25>\"\u001b[1;36m, line \u001b[1;32m2\u001b[0m\n\u001b[1;33m    from packaging.utils.* import tensorflow\u001b[0m\n\u001b[1;37m                         ^\u001b[0m\n\u001b[1;31mSyntaxError\u001b[0m\u001b[1;31m:\u001b[0m invalid syntax\n"
     ]
    }
   ],
   "source": [
    "import tensorflow as tf\n",
    "from Anaconda3. import tensorflow"
   ]
  },
  {
   "cell_type": "markdown",
   "metadata": {},
   "source": [
    "## name == main"
   ]
  },
  {
   "cell_type": "code",
   "execution_count": 40,
   "metadata": {},
   "outputs": [
    {
     "name": "stdout",
     "output_type": "stream",
     "text": [
      "first result\n"
     ]
    }
   ],
   "source": [
    "if __name__ == '__main__':\n",
    "    print('first result')\n",
    "else:\n",
    "    print('second res')"
   ]
  },
  {
   "cell_type": "code",
   "execution_count": 43,
   "metadata": {},
   "outputs": [
    {
     "name": "stdout",
     "output_type": "stream",
     "text": [
      "first result\n"
     ]
    }
   ],
   "source": [
    "import os\n",
    "#C:\\Users\\gaeasoft\\.m2\n",
    "os.chdir(\"C:\\/Users/gaeasoft/\")\n",
    "import cab\n",
    "\n",
    "\"\"\" 이거 실행되면 안되는건데 \"\"\"\n",
    "\n",
    "if __name__ == '__main__':\n",
    "    print('first result')\n",
    "else:\n",
    "    print('second res')"
   ]
  },
  {
   "cell_type": "code",
   "execution_count": 181,
   "metadata": {},
   "outputs": [
    {
     "name": "stdout",
     "output_type": "stream",
     "text": [
      "ㅇ ㅅㅇ \n",
      "\n",
      "ㅇ ㅅㅇ ㅎ ㅅㅎ ㅇ ㅂㅇ \n",
      "\n"
     ]
    }
   ],
   "source": [
    "def test(*args):\n",
    "    for names in args:\n",
    "        print(\"%s %s\" % (names[0], names[1:3]), end=' ')\n",
    "    print(\"\\n\")\n",
    "    \n",
    "test(\"ㅇㅅㅇ\")\n",
    "test(\"ㅇㅅㅇ\", \"ㅎㅅㅎ\",\"ㅇㅂㅇ\")\n",
    "\n",
    "#Student(\"ㅇㅅㅇ\")"
   ]
  },
  {
   "cell_type": "code",
   "execution_count": null,
   "metadata": {},
   "outputs": [],
   "source": [
    "\n",
    "\n",
    "\n",
    "######\n",
    "\n",
    "1. 매직 메서드 __init__ ,__str__ , __new__\n",
    "\n",
    "2. collections\n",
    "\n",
    "3. sub dir, child dir에서 상위 dir을 import하는 상황\n",
    "main dir이 있다면, 다른 모듈을 부를 때, util을 부를 때, util이 main에 있는 다른 것을 load하고 싶을때\n",
    "main을 기준으로 상대경로를 찾아나가더라\n",
    "\n",
    "4. 패키지 & 모듈 \n",
    "\n",
    "\n",
    "\n",
    "\n",
    "\n",
    "\n",
    "\n",
    "\n",
    "\n",
    "\n",
    "\n",
    "\n"
   ]
  }
 ],
 "metadata": {
  "kernelspec": {
   "display_name": "Python 3",
   "language": "python",
   "name": "python3"
  },
  "language_info": {
   "codemirror_mode": {
    "name": "ipython",
    "version": 3
   },
   "file_extension": ".py",
   "mimetype": "text/x-python",
   "name": "python",
   "nbconvert_exporter": "python",
   "pygments_lexer": "ipython3",
   "version": "3.7.3"
  }
 },
 "nbformat": 4,
 "nbformat_minor": 2
}
